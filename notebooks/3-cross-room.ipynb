{
 "cells": [
  {
   "cell_type": "code",
   "execution_count": 1,
   "metadata": {},
   "outputs": [],
   "source": [
    "%load_ext autoreload\n",
    "%autoreload 2"
   ]
  },
  {
   "cell_type": "code",
   "execution_count": 2,
   "metadata": {},
   "outputs": [],
   "source": [
    "import sys\n",
    "sys.path.append('../src/')"
   ]
  },
  {
   "cell_type": "code",
   "execution_count": 3,
   "metadata": {},
   "outputs": [],
   "source": [
    "import catboost\n",
    "import numpy as np\n",
    "import pandas as pd\n",
    "from sklearn.preprocessing import StandardScaler\n",
    "from sklearn.metrics import balanced_accuracy_score\n",
    "\n",
    "from data import load_rooms\n",
    "from features import extract_features, sliding_window_normalization\n"
   ]
  },
  {
   "cell_type": "markdown",
   "metadata": {},
   "source": [
    "# Preparation"
   ]
  },
  {
   "cell_type": "code",
   "execution_count": 4,
   "metadata": {},
   "outputs": [],
   "source": [
    "rooms = load_rooms()\n",
    "\n",
    "model = catboost.CatBoostClassifier(iterations=100, verbose=False, custom_loss=[catboost.metrics.F1()], random_seed=1, random_strength=0, rsm=1, has_time=True, bootstrap_type='No')\n",
    "\n",
    "SHIFTS = [-6, -12, -24, -48, 6, 12, 24, 48]\n"
   ]
  },
  {
   "cell_type": "code",
   "execution_count": 5,
   "metadata": {},
   "outputs": [],
   "source": [
    "def train_eval(model, df_data_train, df_data_test, window_size='60min', shifts=None, normalization=None):\n",
    "    # Extract features.\n",
    "    df_features_train, target_names, input_names = extract_features(df_data_train, window_size, shifts)\n",
    "    df_features_test, target_names, input_names = extract_features(df_data_test, window_size, shifts)\n",
    "\n",
    "    # Sliding window normalization.\n",
    "    # Before drop NaN so we can also use historical sensor data without ground truth.\n",
    "    if normalization == 'SLIDING':\n",
    "        df_features_train[input_names] = sliding_window_normalization(df_features_train[input_names], 30)\n",
    "        df_features_test[input_names] = sliding_window_normalization(df_features_test[input_names], 30)\n",
    "\n",
    "    # Drop NaN.\n",
    "    df_features_train = df_features_train.dropna()\n",
    "    df_features_test = df_features_test.dropna()\n",
    "\n",
    "    # Split X/y.\n",
    "    df_X_train = df_features_train[input_names]\n",
    "    df_y_train = df_features_train[target_names]\n",
    "\n",
    "    df_X_test = df_features_test[input_names]\n",
    "    df_y_test = df_features_test[target_names]\n",
    "\n",
    "    # Prepare input.\n",
    "    if normalization == 'STANDARD':\n",
    "        scaler = StandardScaler()\n",
    "        scaler.fit(df_X_train)\n",
    "        X_train = scaler.transform(df_X_train)\n",
    "        X_test = scaler.transform(df_X_test)\n",
    "    else:\n",
    "        X_train = df_X_train.values\n",
    "        X_test = df_X_test.values\n",
    "\n",
    "    # Prepare target.\n",
    "    y_train = df_y_train.values.ravel().astype(np.uint8)\n",
    "    y_test = df_y_test.values.ravel().astype(np.uint8)\n",
    "\n",
    "    # Fit model.\n",
    "    model.fit(X_train, y_train)\n",
    "\n",
    "    # Predict train data and calculate score.\n",
    "    train_pred = model.predict(X_train)\n",
    "    train_ba = balanced_accuracy_score(y_train, train_pred)\n",
    "\n",
    "    # Predict test data and calculate score.\n",
    "    test_pred = model.predict(X_test)\n",
    "    test_ba = balanced_accuracy_score(y_test, test_pred)\n",
    "\n",
    "    return round(train_ba*100, 1), round(test_ba*100, 1)\n"
   ]
  },
  {
   "cell_type": "markdown",
   "metadata": {},
   "source": [
    "# Direct Approach"
   ]
  },
  {
   "cell_type": "code",
   "execution_count": 6,
   "metadata": {},
   "outputs": [
    {
     "data": {
      "text/html": [
       "<div>\n",
       "<style scoped>\n",
       "    .dataframe tbody tr th:only-of-type {\n",
       "        vertical-align: middle;\n",
       "    }\n",
       "\n",
       "    .dataframe tbody tr th {\n",
       "        vertical-align: top;\n",
       "    }\n",
       "\n",
       "    .dataframe thead th {\n",
       "        text-align: right;\n",
       "    }\n",
       "</style>\n",
       "<table border=\"1\" class=\"dataframe\">\n",
       "  <thead>\n",
       "    <tr style=\"text-align: right;\">\n",
       "      <th></th>\n",
       "      <th>Validation BA on Office L1</th>\n",
       "      <th>Validation BA on Office L2</th>\n",
       "      <th>Validation BA on Office S3</th>\n",
       "      <th>Validation BA on Home 1</th>\n",
       "    </tr>\n",
       "  </thead>\n",
       "  <tbody>\n",
       "    <tr>\n",
       "      <th>Office L1</th>\n",
       "      <td>X</td>\n",
       "      <td>81.4</td>\n",
       "      <td>55.7</td>\n",
       "      <td>65.4</td>\n",
       "    </tr>\n",
       "    <tr>\n",
       "      <th>Office L2</th>\n",
       "      <td>63.0</td>\n",
       "      <td>X</td>\n",
       "      <td>51.1</td>\n",
       "      <td>75.7</td>\n",
       "    </tr>\n",
       "    <tr>\n",
       "      <th>Office S3</th>\n",
       "      <td>62.0</td>\n",
       "      <td>69.8</td>\n",
       "      <td>X</td>\n",
       "      <td>70.6</td>\n",
       "    </tr>\n",
       "    <tr>\n",
       "      <th>Home 1</th>\n",
       "      <td>50.0</td>\n",
       "      <td>53.5</td>\n",
       "      <td>50.0</td>\n",
       "      <td>X</td>\n",
       "    </tr>\n",
       "  </tbody>\n",
       "</table>\n",
       "</div>"
      ],
      "text/plain": [
       "          Validation BA on Office L1 Validation BA on Office L2  \\\n",
       "Office L1                          X                       81.4   \n",
       "Office L2                       63.0                          X   \n",
       "Office S3                       62.0                       69.8   \n",
       "Home 1                          50.0                       53.5   \n",
       "\n",
       "          Validation BA on Office S3 Validation BA on Home 1  \n",
       "Office L1                       55.7                    65.4  \n",
       "Office L2                       51.1                    75.7  \n",
       "Office S3                          X                    70.6  \n",
       "Home 1                          50.0                       X  "
      ]
     },
     "execution_count": 6,
     "metadata": {},
     "output_type": "execute_result"
    }
   ],
   "source": [
    "d = {}\n",
    "for room_train, data_train in rooms.items():\n",
    "    d[room_train] = [\n",
    "        train_eval(model, data_train, data_eval, shifts=SHIFTS, normalization='STANDARD')[1]\n",
    "        if room_train != room_eval else 'X'\n",
    "        for room_eval, data_eval\n",
    "        in rooms.items()\n",
    "    ]\n",
    "\n",
    "df_direct_results = pd.DataFrame.from_dict(data=d, columns=[f'Validation BA on {room}' for room in rooms.keys()], orient='index')\n",
    "df_direct_results\n"
   ]
  },
  {
   "cell_type": "markdown",
   "metadata": {},
   "source": [
    "# Sliding Window Normalization Approach"
   ]
  },
  {
   "cell_type": "code",
   "execution_count": 7,
   "metadata": {},
   "outputs": [
    {
     "data": {
      "text/html": [
       "<div>\n",
       "<style scoped>\n",
       "    .dataframe tbody tr th:only-of-type {\n",
       "        vertical-align: middle;\n",
       "    }\n",
       "\n",
       "    .dataframe tbody tr th {\n",
       "        vertical-align: top;\n",
       "    }\n",
       "\n",
       "    .dataframe thead th {\n",
       "        text-align: right;\n",
       "    }\n",
       "</style>\n",
       "<table border=\"1\" class=\"dataframe\">\n",
       "  <thead>\n",
       "    <tr style=\"text-align: right;\">\n",
       "      <th></th>\n",
       "      <th>Validation BA on Office L1</th>\n",
       "      <th>Validation BA on Office L2</th>\n",
       "      <th>Validation BA on Office S3</th>\n",
       "      <th>Validation BA on Home 1</th>\n",
       "    </tr>\n",
       "  </thead>\n",
       "  <tbody>\n",
       "    <tr>\n",
       "      <th>Office L1</th>\n",
       "      <td>X</td>\n",
       "      <td>84.6</td>\n",
       "      <td>66.8</td>\n",
       "      <td>80.6</td>\n",
       "    </tr>\n",
       "    <tr>\n",
       "      <th>Office L2</th>\n",
       "      <td>83.4</td>\n",
       "      <td>X</td>\n",
       "      <td>64.1</td>\n",
       "      <td>78.0</td>\n",
       "    </tr>\n",
       "    <tr>\n",
       "      <th>Office S3</th>\n",
       "      <td>60.1</td>\n",
       "      <td>62.2</td>\n",
       "      <td>X</td>\n",
       "      <td>65.7</td>\n",
       "    </tr>\n",
       "    <tr>\n",
       "      <th>Home 1</th>\n",
       "      <td>71.4</td>\n",
       "      <td>70.5</td>\n",
       "      <td>64.5</td>\n",
       "      <td>X</td>\n",
       "    </tr>\n",
       "  </tbody>\n",
       "</table>\n",
       "</div>"
      ],
      "text/plain": [
       "          Validation BA on Office L1 Validation BA on Office L2  \\\n",
       "Office L1                          X                       84.6   \n",
       "Office L2                       83.4                          X   \n",
       "Office S3                       60.1                       62.2   \n",
       "Home 1                          71.4                       70.5   \n",
       "\n",
       "          Validation BA on Office S3 Validation BA on Home 1  \n",
       "Office L1                       66.8                    80.6  \n",
       "Office L2                       64.1                    78.0  \n",
       "Office S3                          X                    65.7  \n",
       "Home 1                          64.5                       X  "
      ]
     },
     "execution_count": 7,
     "metadata": {},
     "output_type": "execute_result"
    }
   ],
   "source": [
    "d = {}\n",
    "for room_train, data_train in rooms.items():\n",
    "    d[room_train] = [\n",
    "        train_eval(model, data_train, data_eval, shifts=SHIFTS, normalization='SLIDING')[1]\n",
    "        if room_train != room_eval else 'X'\n",
    "        for room_eval, data_eval\n",
    "        in rooms.items()\n",
    "    ]\n",
    "\n",
    "df_sliding_results = pd.DataFrame.from_dict(data=d, columns=[f'Validation BA on {room}' for room in rooms.keys()], orient='index')\n",
    "df_sliding_results\n"
   ]
  },
  {
   "cell_type": "code",
   "execution_count": null,
   "metadata": {},
   "outputs": [],
   "source": []
  }
 ],
 "metadata": {
  "kernelspec": {
   "display_name": "presence",
   "language": "python",
   "name": "python3"
  },
  "language_info": {
   "codemirror_mode": {
    "name": "ipython",
    "version": 3
   },
   "file_extension": ".py",
   "mimetype": "text/x-python",
   "name": "python",
   "nbconvert_exporter": "python",
   "pygments_lexer": "ipython3",
   "version": "3.9.16"
  },
  "orig_nbformat": 4
 },
 "nbformat": 4,
 "nbformat_minor": 2
}
