{
 "cells": [
  {
   "cell_type": "code",
   "execution_count": 1,
   "metadata": {},
   "outputs": [],
   "source": [
    "%load_ext autoreload\n",
    "%autoreload 2"
   ]
  },
  {
   "cell_type": "code",
   "execution_count": 2,
   "metadata": {},
   "outputs": [],
   "source": [
    "import sys\n",
    "sys.path.append('../src/')"
   ]
  },
  {
   "cell_type": "code",
   "execution_count": 3,
   "metadata": {},
   "outputs": [],
   "source": [
    "import pandas as pd\n",
    "import plotly.graph_objects as go\n",
    "from plotly.subplots import make_subplots\n",
    "from plotly_resampler import FigureWidgetResampler\n",
    "\n",
    "from data import load_rooms\n"
   ]
  },
  {
   "cell_type": "markdown",
   "metadata": {},
   "source": [
    "# Preparation"
   ]
  },
  {
   "cell_type": "code",
   "execution_count": 4,
   "metadata": {},
   "outputs": [],
   "source": [
    "rooms = load_rooms()\n"
   ]
  },
  {
   "cell_type": "code",
   "execution_count": 5,
   "metadata": {},
   "outputs": [],
   "source": [
    "def visualize(df):\n",
    "    n = df.shape[0]\n",
    "    n_not_na = df.notna().all(axis=1).sum()\n",
    "    n_no_presence = (df.dropna()['presence'] == 0).sum()\n",
    "    n_presence = (df.dropna()['presence'] == 1).sum()\n",
    "\n",
    "    print('Number of rows:', n)\n",
    "    print('Number of rows without NaN:', n_not_na)\n",
    "    print('No presence / presence distribution:', f'{round((n_no_presence/n_not_na)*100, 1)}%', '/', f'{round((n_presence/n_not_na)*100, 1)}%')\n",
    "    print(df.describe())\n",
    "\n",
    "    fig = FigureWidgetResampler(make_subplots(rows=2, cols=1, shared_xaxes=True))\n",
    "\n",
    "    fig.add_trace(\n",
    "        go.Scattergl(name='presence', fill='tozeroy'),\n",
    "        hf_x=df.index,\n",
    "        hf_y=pd.to_numeric(df['presence']),\n",
    "        row=1,\n",
    "        col=1,\n",
    "    )\n",
    "\n",
    "    fig.add_trace(\n",
    "        go.Scattergl(name='CO2'),\n",
    "        hf_x=df.index,\n",
    "        hf_y=pd.to_numeric(df['CO2']),\n",
    "        row=2,\n",
    "        col=1\n",
    "    )\n",
    "\n",
    "    return fig\n"
   ]
  },
  {
   "cell_type": "markdown",
   "metadata": {},
   "source": [
    "# Office L1"
   ]
  },
  {
   "cell_type": "code",
   "execution_count": 6,
   "metadata": {},
   "outputs": [
    {
     "name": "stdout",
     "output_type": "stream",
     "text": [
      "Number of rows: 30234\n",
      "Number of rows without NaN: 30234\n",
      "No presence / presence distribution: 82.2% / 17.8%\n",
      "                CO2      presence\n",
      "count  30234.000000  30234.000000\n",
      "mean     465.339081      0.178475\n",
      "std       53.717133      0.382918\n",
      "min      352.679993      0.000000\n",
      "25%      432.000000      0.000000\n",
      "50%      453.000000      0.000000\n",
      "75%      485.581085      0.000000\n",
      "max     2498.729736      1.000000\n"
     ]
    },
    {
     "data": {
      "application/vnd.jupyter.widget-view+json": {
       "model_id": "83e5db0e51ab4b4780f4ed5827cb0d32",
       "version_major": 2,
       "version_minor": 0
      },
      "text/plain": [
       "FigureWidgetResampler({\n",
       "    'data': [{'fill': 'tozeroy',\n",
       "              'name': '<b style=\"color:sandybrown\">[R]</b> presence <i style=\"color:#fc9944\">~5h</i>',\n",
       "              'type': 'scattergl',\n",
       "              'uid': 'affc1743-94d4-4c8f-92cb-149e3eb048d6',\n",
       "              'x': array([datetime.datetime(2022, 2, 18, 0, 10, tzinfo=<DstTzInfo 'Europe/Brussels' CET+1:00:00 STD>),\n",
       "                          datetime.datetime(2022, 2, 18, 5, 10, tzinfo=<DstTzInfo 'Europe/Brussels' CET+1:00:00 STD>),\n",
       "                          datetime.datetime(2022, 2, 18, 10, 0, tzinfo=<DstTzInfo 'Europe/Brussels' CET+1:00:00 STD>),\n",
       "                          ...,\n",
       "                          datetime.datetime(2022, 9, 15, 13, 50, tzinfo=<DstTzInfo 'Europe/Brussels' CEST+2:00:00 DST>),\n",
       "                          datetime.datetime(2022, 9, 15, 18, 50, tzinfo=<DstTzInfo 'Europe/Brussels' CEST+2:00:00 DST>),\n",
       "                          datetime.datetime(2022, 9, 16, 0, 0, tzinfo=<DstTzInfo 'Europe/Brussels' CEST+2:00:00 DST>)],\n",
       "                         dtype=object),\n",
       "              'xaxis': 'x',\n",
       "              'y': array([0., 0., 0., ..., 1., 0., 0.], dtype=float32),\n",
       "              'yaxis': 'y'},\n",
       "             {'name': '<b style=\"color:sandybrown\">[R]</b> CO2 <i style=\"color:#fc9944\">~5h</i>',\n",
       "              'type': 'scattergl',\n",
       "              'uid': '1c2d5781-ca04-45e7-9eea-11022dac1435',\n",
       "              'x': array([datetime.datetime(2022, 2, 18, 0, 10, tzinfo=<DstTzInfo 'Europe/Brussels' CET+1:00:00 STD>),\n",
       "                          datetime.datetime(2022, 2, 18, 4, 20, tzinfo=<DstTzInfo 'Europe/Brussels' CET+1:00:00 STD>),\n",
       "                          datetime.datetime(2022, 2, 18, 8, 30, tzinfo=<DstTzInfo 'Europe/Brussels' CET+1:00:00 STD>),\n",
       "                          ...,\n",
       "                          datetime.datetime(2022, 9, 15, 15, 20, tzinfo=<DstTzInfo 'Europe/Brussels' CEST+2:00:00 DST>),\n",
       "                          datetime.datetime(2022, 9, 15, 19, 0, tzinfo=<DstTzInfo 'Europe/Brussels' CEST+2:00:00 DST>),\n",
       "                          datetime.datetime(2022, 9, 16, 0, 0, tzinfo=<DstTzInfo 'Europe/Brussels' CEST+2:00:00 DST>)],\n",
       "                         dtype=object),\n",
       "              'xaxis': 'x2',\n",
       "              'y': array([477.     , 463.0811 , 464.17334, ..., 609.2432 , 585.65753, 515.     ],\n",
       "                         dtype=float32),\n",
       "              'yaxis': 'y2'}],\n",
       "    'layout': {'template': '...',\n",
       "               'xaxis': {'anchor': 'y', 'domain': [0.0, 1.0], 'matches': 'x2', 'showticklabels': False},\n",
       "               'xaxis2': {'anchor': 'y2', 'domain': [0.0, 1.0]},\n",
       "               'yaxis': {'anchor': 'x', 'domain': [0.575, 1.0]},\n",
       "               'yaxis2': {'anchor': 'x2', 'domain': [0.0, 0.425]}}\n",
       "})"
      ]
     },
     "execution_count": 6,
     "metadata": {},
     "output_type": "execute_result"
    }
   ],
   "source": [
    "visualize(rooms['Office L1'])\n"
   ]
  },
  {
   "cell_type": "markdown",
   "metadata": {},
   "source": [
    "# Office L2"
   ]
  },
  {
   "cell_type": "code",
   "execution_count": 7,
   "metadata": {},
   "outputs": [
    {
     "name": "stdout",
     "output_type": "stream",
     "text": [
      "Number of rows: 30234\n",
      "Number of rows without NaN: 30234\n",
      "No presence / presence distribution: 81.9% / 18.1%\n",
      "                CO2      presence\n",
      "count  30234.000000  30234.000000\n",
      "mean     548.231201      0.181352\n",
      "std      111.684555      0.385316\n",
      "min      344.815796      0.000000\n",
      "25%      475.591789      0.000000\n",
      "50%      523.727875      0.000000\n",
      "75%      587.364563      0.000000\n",
      "max     1663.397217      1.000000\n"
     ]
    },
    {
     "data": {
      "application/vnd.jupyter.widget-view+json": {
       "model_id": "7e73730df29142b69726578b7ad4fff9",
       "version_major": 2,
       "version_minor": 0
      },
      "text/plain": [
       "FigureWidgetResampler({\n",
       "    'data': [{'fill': 'tozeroy',\n",
       "              'name': '<b style=\"color:sandybrown\">[R]</b> presence <i style=\"color:#fc9944\">~5h</i>',\n",
       "              'type': 'scattergl',\n",
       "              'uid': '0dec6d7b-1960-4309-8072-cffcc9fb5595',\n",
       "              'x': array([datetime.datetime(2022, 2, 18, 0, 10, tzinfo=<DstTzInfo 'Europe/Brussels' CET+1:00:00 STD>),\n",
       "                          datetime.datetime(2022, 2, 18, 0, 20, tzinfo=<DstTzInfo 'Europe/Brussels' CET+1:00:00 STD>),\n",
       "                          datetime.datetime(2022, 2, 18, 10, 10, tzinfo=<DstTzInfo 'Europe/Brussels' CET+1:00:00 STD>),\n",
       "                          ...,\n",
       "                          datetime.datetime(2022, 9, 15, 17, 30, tzinfo=<DstTzInfo 'Europe/Brussels' CEST+2:00:00 DST>),\n",
       "                          datetime.datetime(2022, 9, 15, 18, 50, tzinfo=<DstTzInfo 'Europe/Brussels' CEST+2:00:00 DST>),\n",
       "                          datetime.datetime(2022, 9, 16, 0, 0, tzinfo=<DstTzInfo 'Europe/Brussels' CEST+2:00:00 DST>)],\n",
       "                         dtype=object),\n",
       "              'xaxis': 'x',\n",
       "              'y': array([0., 0., 0., ..., 1., 0., 0.], dtype=float32),\n",
       "              'yaxis': 'y'},\n",
       "             {'name': '<b style=\"color:sandybrown\">[R]</b> CO2 <i style=\"color:#fc9944\">~5h</i>',\n",
       "              'type': 'scattergl',\n",
       "              'uid': '62de457c-b7d1-4486-acc8-5613d251feac',\n",
       "              'x': array([datetime.datetime(2022, 2, 18, 0, 10, tzinfo=<DstTzInfo 'Europe/Brussels' CET+1:00:00 STD>),\n",
       "                          datetime.datetime(2022, 2, 18, 4, 20, tzinfo=<DstTzInfo 'Europe/Brussels' CET+1:00:00 STD>),\n",
       "                          datetime.datetime(2022, 2, 18, 8, 40, tzinfo=<DstTzInfo 'Europe/Brussels' CET+1:00:00 STD>),\n",
       "                          ...,\n",
       "                          datetime.datetime(2022, 9, 15, 15, 20, tzinfo=<DstTzInfo 'Europe/Brussels' CEST+2:00:00 DST>),\n",
       "                          datetime.datetime(2022, 9, 15, 19, 40, tzinfo=<DstTzInfo 'Europe/Brussels' CEST+2:00:00 DST>),\n",
       "                          datetime.datetime(2022, 9, 16, 0, 0, tzinfo=<DstTzInfo 'Europe/Brussels' CEST+2:00:00 DST>)],\n",
       "                         dtype=object),\n",
       "              'xaxis': 'x2',\n",
       "              'y': array([546.     , 506.43243, 510.     , ..., 810.06665, 808.452  , 686.56   ],\n",
       "                         dtype=float32),\n",
       "              'yaxis': 'y2'}],\n",
       "    'layout': {'template': '...',\n",
       "               'xaxis': {'anchor': 'y', 'domain': [0.0, 1.0], 'matches': 'x2', 'showticklabels': False},\n",
       "               'xaxis2': {'anchor': 'y2', 'domain': [0.0, 1.0]},\n",
       "               'yaxis': {'anchor': 'x', 'domain': [0.575, 1.0]},\n",
       "               'yaxis2': {'anchor': 'x2', 'domain': [0.0, 0.425]}}\n",
       "})"
      ]
     },
     "execution_count": 7,
     "metadata": {},
     "output_type": "execute_result"
    }
   ],
   "source": [
    "visualize(rooms['Office L2'])\n"
   ]
  },
  {
   "cell_type": "markdown",
   "metadata": {},
   "source": [
    "# Office S3"
   ]
  },
  {
   "cell_type": "code",
   "execution_count": 8,
   "metadata": {},
   "outputs": [
    {
     "name": "stdout",
     "output_type": "stream",
     "text": [
      "Number of rows: 30234\n",
      "Number of rows without NaN: 30234\n",
      "No presence / presence distribution: 92.8% / 7.2%\n",
      "                CO2      presence\n",
      "count  30234.000000  30234.000000\n",
      "mean     444.205841      0.072038\n",
      "std       37.467617      0.258555\n",
      "min      381.540527      0.000000\n",
      "25%      417.677818      0.000000\n",
      "50%      430.500000      0.000000\n",
      "75%      468.322182      0.000000\n",
      "max      723.789490      1.000000\n"
     ]
    },
    {
     "data": {
      "application/vnd.jupyter.widget-view+json": {
       "model_id": "9515fa6b2fb24f0094d2ce3ab82c190e",
       "version_major": 2,
       "version_minor": 0
      },
      "text/plain": [
       "FigureWidgetResampler({\n",
       "    'data': [{'fill': 'tozeroy',\n",
       "              'name': '<b style=\"color:sandybrown\">[R]</b> presence <i style=\"color:#fc9944\">~5h</i>',\n",
       "              'type': 'scattergl',\n",
       "              'uid': '5d6e028b-79d4-433d-8905-02fd3fd06480',\n",
       "              'x': array([datetime.datetime(2022, 2, 18, 0, 10, tzinfo=<DstTzInfo 'Europe/Brussels' CET+1:00:00 STD>),\n",
       "                          datetime.datetime(2022, 2, 18, 0, 20, tzinfo=<DstTzInfo 'Europe/Brussels' CET+1:00:00 STD>),\n",
       "                          datetime.datetime(2022, 2, 18, 5, 20, tzinfo=<DstTzInfo 'Europe/Brussels' CET+1:00:00 STD>),\n",
       "                          ...,\n",
       "                          datetime.datetime(2022, 9, 15, 13, 50, tzinfo=<DstTzInfo 'Europe/Brussels' CEST+2:00:00 DST>),\n",
       "                          datetime.datetime(2022, 9, 15, 18, 50, tzinfo=<DstTzInfo 'Europe/Brussels' CEST+2:00:00 DST>),\n",
       "                          datetime.datetime(2022, 9, 16, 0, 0, tzinfo=<DstTzInfo 'Europe/Brussels' CEST+2:00:00 DST>)],\n",
       "                         dtype=object),\n",
       "              'xaxis': 'x',\n",
       "              'y': array([0., 0., 0., ..., 0., 0., 0.], dtype=float32),\n",
       "              'yaxis': 'y'},\n",
       "             {'name': '<b style=\"color:sandybrown\">[R]</b> CO2 <i style=\"color:#fc9944\">~5h</i>',\n",
       "              'type': 'scattergl',\n",
       "              'uid': 'e9bf4893-4ec7-4508-a014-febcf7dc0fa2',\n",
       "              'x': array([datetime.datetime(2022, 2, 18, 0, 10, tzinfo=<DstTzInfo 'Europe/Brussels' CET+1:00:00 STD>),\n",
       "                          datetime.datetime(2022, 2, 18, 1, 50, tzinfo=<DstTzInfo 'Europe/Brussels' CET+1:00:00 STD>),\n",
       "                          datetime.datetime(2022, 2, 18, 5, 40, tzinfo=<DstTzInfo 'Europe/Brussels' CET+1:00:00 STD>),\n",
       "                          ...,\n",
       "                          datetime.datetime(2022, 9, 15, 15, 10, tzinfo=<DstTzInfo 'Europe/Brussels' CEST+2:00:00 DST>),\n",
       "                          datetime.datetime(2022, 9, 15, 19, 30, tzinfo=<DstTzInfo 'Europe/Brussels' CEST+2:00:00 DST>),\n",
       "                          datetime.datetime(2022, 9, 16, 0, 0, tzinfo=<DstTzInfo 'Europe/Brussels' CEST+2:00:00 DST>)],\n",
       "                         dtype=object),\n",
       "              'xaxis': 'x2',\n",
       "              'y': array([416.     , 430.     , 414.83783, ..., 425.     , 414.07693, 431.5366 ],\n",
       "                         dtype=float32),\n",
       "              'yaxis': 'y2'}],\n",
       "    'layout': {'template': '...',\n",
       "               'xaxis': {'anchor': 'y', 'domain': [0.0, 1.0], 'matches': 'x2', 'showticklabels': False},\n",
       "               'xaxis2': {'anchor': 'y2', 'domain': [0.0, 1.0]},\n",
       "               'yaxis': {'anchor': 'x', 'domain': [0.575, 1.0]},\n",
       "               'yaxis2': {'anchor': 'x2', 'domain': [0.0, 0.425]}}\n",
       "})"
      ]
     },
     "execution_count": 8,
     "metadata": {},
     "output_type": "execute_result"
    }
   ],
   "source": [
    "visualize(rooms['Office S3'])\n"
   ]
  },
  {
   "cell_type": "markdown",
   "metadata": {},
   "source": [
    "# Home 1"
   ]
  },
  {
   "cell_type": "code",
   "execution_count": 9,
   "metadata": {},
   "outputs": [
    {
     "name": "stdout",
     "output_type": "stream",
     "text": [
      "Number of rows: 47232\n",
      "Number of rows without NaN: 25917\n",
      "No presence / presence distribution: 82.2% / 17.8%\n",
      "                CO2      presence\n",
      "count  35345.000000  25932.000000\n",
      "mean     631.295227      0.177734\n",
      "std      278.093079      0.382296\n",
      "min      400.000000      0.000000\n",
      "25%      461.000000      0.000000\n",
      "50%      537.000000      0.000000\n",
      "75%      698.750000      0.000000\n",
      "max     2439.250000      1.000000\n"
     ]
    },
    {
     "data": {
      "application/vnd.jupyter.widget-view+json": {
       "model_id": "ed32dd6699e84003a91c664202845390",
       "version_major": 2,
       "version_minor": 0
      },
      "text/plain": [
       "FigureWidgetResampler({\n",
       "    'data': [{'fill': 'tozeroy',\n",
       "              'name': '<b style=\"color:sandybrown\">[R]</b> presence <i style=\"color:#fc9944\">~6h</i>',\n",
       "              'type': 'scattergl',\n",
       "              'uid': 'c88ae0ce-cf58-492e-b2f5-34759c8a240b',\n",
       "              'x': array([datetime.datetime(2021, 11, 3, 0, 10, tzinfo=<UTC>),\n",
       "                          datetime.datetime(2021, 11, 3, 4, 20, tzinfo=<UTC>),\n",
       "                          datetime.datetime(2021, 11, 3, 7, 50, tzinfo=<UTC>), ...,\n",
       "                          datetime.datetime(2022, 7, 27, 15, 20, tzinfo=<UTC>),\n",
       "                          datetime.datetime(2022, 7, 27, 19, 40, tzinfo=<UTC>),\n",
       "                          datetime.datetime(2022, 7, 28, 0, 0, tzinfo=<UTC>)], dtype=object),\n",
       "              'xaxis': 'x',\n",
       "              'y': array([0., 0., 1., ..., 0., 0., 0.], dtype=float32),\n",
       "              'yaxis': 'y'},\n",
       "             {'name': '<b style=\"color:sandybrown\">[R]</b> CO2 <i style=\"color:#fc9944\">~8h</i>',\n",
       "              'type': 'scattergl',\n",
       "              'uid': '4a383a66-3d10-4d46-9b20-dd32858ec2e7',\n",
       "              'x': array([datetime.datetime(2021, 9, 3, 0, 10, tzinfo=<UTC>),\n",
       "                          datetime.datetime(2021, 9, 3, 5, 20, tzinfo=<UTC>),\n",
       "                          datetime.datetime(2021, 9, 3, 7, 10, tzinfo=<UTC>), ...,\n",
       "                          datetime.datetime(2022, 7, 27, 17, 30, tzinfo=<UTC>),\n",
       "                          datetime.datetime(2022, 7, 27, 18, 40, tzinfo=<UTC>),\n",
       "                          datetime.datetime(2022, 7, 28, 0, 0, tzinfo=<UTC>)], dtype=object),\n",
       "              'xaxis': 'x2',\n",
       "              'y': array([492.66666, 528.     , 897.     , ..., 457.     , 724.     , 459.5    ],\n",
       "                         dtype=float32),\n",
       "              'yaxis': 'y2'}],\n",
       "    'layout': {'template': '...',\n",
       "               'xaxis': {'anchor': 'y', 'domain': [0.0, 1.0], 'matches': 'x2', 'showticklabels': False},\n",
       "               'xaxis2': {'anchor': 'y2', 'domain': [0.0, 1.0]},\n",
       "               'yaxis': {'anchor': 'x', 'domain': [0.575, 1.0]},\n",
       "               'yaxis2': {'anchor': 'x2', 'domain': [0.0, 0.425]}}\n",
       "})"
      ]
     },
     "execution_count": 9,
     "metadata": {},
     "output_type": "execute_result"
    }
   ],
   "source": [
    "visualize(rooms['Home 1'])\n"
   ]
  },
  {
   "cell_type": "code",
   "execution_count": null,
   "metadata": {},
   "outputs": [],
   "source": []
  }
 ],
 "metadata": {
  "kernelspec": {
   "display_name": "mooizo",
   "language": "python",
   "name": "python3"
  },
  "language_info": {
   "codemirror_mode": {
    "name": "ipython",
    "version": 3
   },
   "file_extension": ".py",
   "mimetype": "text/x-python",
   "name": "python",
   "nbconvert_exporter": "python",
   "pygments_lexer": "ipython3",
   "version": "3.9.16"
  },
  "orig_nbformat": 4
 },
 "nbformat": 4,
 "nbformat_minor": 2
}
