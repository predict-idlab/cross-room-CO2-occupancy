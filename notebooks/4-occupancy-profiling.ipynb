{
 "cells": [
  {
   "cell_type": "code",
   "execution_count": 1,
   "metadata": {},
   "outputs": [],
   "source": [
    "%load_ext autoreload\n",
    "%autoreload 2"
   ]
  },
  {
   "cell_type": "code",
   "execution_count": 2,
   "metadata": {},
   "outputs": [],
   "source": [
    "import sys\n",
    "sys.path.append('../src/')"
   ]
  },
  {
   "cell_type": "code",
   "execution_count": 3,
   "metadata": {},
   "outputs": [],
   "source": [
    "import catboost\n",
    "import numpy as np\n",
    "import pandas as pd\n",
    "import plotly.graph_objects as go\n",
    "from plotly.subplots import make_subplots\n",
    "\n",
    "from data import load_rooms\n",
    "from features import extract_features, sliding_window_normalization"
   ]
  },
  {
   "cell_type": "markdown",
   "metadata": {},
   "source": [
    "# Preparation"
   ]
  },
  {
   "cell_type": "code",
   "execution_count": 4,
   "metadata": {},
   "outputs": [],
   "source": [
    "rooms = load_rooms()\n",
    "\n",
    "model = catboost.CatBoostClassifier(iterations=100, verbose=False, custom_loss=[catboost.metrics.F1()], random_seed=1, random_strength=0, rsm=1, has_time=True, bootstrap_type='No')\n",
    "\n",
    "SHIFTS = [-6, -12, -24, -48, 6, 12, 24, 48]\n",
    "\n",
    "PROFILE_WINDOW_SIZE = 7*4*4 # Approximately 4 months.\n"
   ]
  },
  {
   "cell_type": "code",
   "execution_count": 5,
   "metadata": {},
   "outputs": [],
   "source": [
    "# Extract features.\n",
    "df_features_train, target_names, input_names = extract_features(rooms['Office L1'], shifts=SHIFTS)\n",
    "df_features_test, target_names, input_names = extract_features(rooms['Office L2'], shifts=SHIFTS)\n",
    "\n",
    "# Sliding window normalization.\n",
    "df_features_train[input_names] = sliding_window_normalization(df_features_train[input_names], 30)\n",
    "df_features_test[input_names] = sliding_window_normalization(df_features_test[input_names], 30)\n",
    "\n",
    "# Drop NaN.\n",
    "df_features_train = df_features_train.dropna()\n",
    "df_features_test = df_features_test.dropna()\n",
    "\n",
    "# Split X/y.\n",
    "df_X_train = df_features_train[input_names]\n",
    "df_y_train = df_features_train[target_names]\n",
    "\n",
    "df_X_test = df_features_test[input_names]\n",
    "df_y_test = df_features_test[target_names]\n",
    "\n",
    "# Prepare input.\n",
    "X_train = df_X_train.values\n",
    "X_test = df_X_test.values\n",
    "\n",
    "# Prepare target.\n",
    "y_train = df_y_train.values.ravel().astype(np.uint8)\n",
    "y_test = df_y_test.values.ravel().astype(np.uint8)\n",
    "\n",
    "# Fit model.\n",
    "model.fit(X_train, y_train)\n",
    "\n",
    "# Predict test data.\n",
    "test_pred = model.predict(X_test)"
   ]
  },
  {
   "cell_type": "markdown",
   "metadata": {},
   "source": [
    "# Average workday"
   ]
  },
  {
   "cell_type": "code",
   "execution_count": 6,
   "metadata": {},
   "outputs": [
    {
     "name": "stdout",
     "output_type": "stream",
     "text": [
      "MAE: 0.043 ± 0.079\n"
     ]
    }
   ],
   "source": [
    "# Build dataframe.\n",
    "df_profile = df_y_test.rename(columns={'presence__last__w=10m': 'presence_gt'}).copy()\n",
    "df_profile['presence_predicted'] = test_pred\n",
    "\n",
    "# Prepare columns for grouping.\n",
    "df_profile['workday'] = df_profile.index.weekday.isin([0, 1, 2, 3, 4]) # Monday = 0\n",
    "df_profile['hour'] = df_profile.index.hour\n",
    "df_profile['minute'] = df_profile.index.minute\n",
    "\n",
    "# Group and perform rolling average per group.\n",
    "df_profile = df_profile.groupby(['workday', 'hour', 'minute']).transform(lambda s: s.rolling(f'{PROFILE_WINDOW_SIZE}D').mean())\n",
    "\n",
    "# resample.\n",
    "df_profile = df_profile.resample('30min', label='left').mean()\n",
    "\n",
    "# Calculate MAE of predicted profile with respect to ground truth profile.\n",
    "print('MAE:', (df_profile['presence_gt'] - df_profile['presence_predicted']).abs().mean().round(3), '±', (df_profile['presence_gt'] - df_profile['presence_predicted']).abs().std().round(3))"
   ]
  },
  {
   "cell_type": "code",
   "execution_count": 7,
   "metadata": {},
   "outputs": [
    {
     "data": {
      "application/vnd.plotly.v1+json": {
       "config": {
        "plotlyServerURL": "https://plot.ly"
       },
       "data": [
        {
         "name": "profile",
         "type": "bar",
         "x": [
          "2022-09-09T00:30:00+02:00",
          "2022-09-09T01:00:00+02:00",
          "2022-09-09T01:30:00+02:00",
          "2022-09-09T02:00:00+02:00",
          "2022-09-09T02:30:00+02:00",
          "2022-09-09T03:00:00+02:00",
          "2022-09-09T03:30:00+02:00",
          "2022-09-09T04:00:00+02:00",
          "2022-09-09T04:30:00+02:00",
          "2022-09-09T05:00:00+02:00",
          "2022-09-09T05:30:00+02:00",
          "2022-09-09T06:00:00+02:00",
          "2022-09-09T06:30:00+02:00",
          "2022-09-09T07:00:00+02:00",
          "2022-09-09T07:30:00+02:00",
          "2022-09-09T08:00:00+02:00",
          "2022-09-09T08:30:00+02:00",
          "2022-09-09T09:00:00+02:00",
          "2022-09-09T09:30:00+02:00",
          "2022-09-09T10:00:00+02:00",
          "2022-09-09T10:30:00+02:00",
          "2022-09-09T11:00:00+02:00",
          "2022-09-09T11:30:00+02:00",
          "2022-09-09T12:00:00+02:00",
          "2022-09-09T12:30:00+02:00",
          "2022-09-09T13:00:00+02:00",
          "2022-09-09T13:30:00+02:00",
          "2022-09-09T14:00:00+02:00",
          "2022-09-09T14:30:00+02:00",
          "2022-09-09T15:00:00+02:00",
          "2022-09-09T15:30:00+02:00",
          "2022-09-09T16:00:00+02:00",
          "2022-09-09T16:30:00+02:00",
          "2022-09-09T17:00:00+02:00",
          "2022-09-09T17:30:00+02:00",
          "2022-09-09T18:00:00+02:00",
          "2022-09-09T18:30:00+02:00",
          "2022-09-09T19:00:00+02:00",
          "2022-09-09T19:30:00+02:00",
          "2022-09-09T20:00:00+02:00",
          "2022-09-09T20:30:00+02:00",
          "2022-09-09T21:00:00+02:00",
          "2022-09-09T21:30:00+02:00",
          "2022-09-09T22:00:00+02:00",
          "2022-09-09T22:30:00+02:00",
          "2022-09-09T23:00:00+02:00",
          "2022-09-09T23:30:00+02:00"
         ],
         "xaxis": "x",
         "y": [
          0.025000000000000005,
          0.025000000000000005,
          0.025000000000000005,
          0.012500000000000002,
          0.012500000000000002,
          0.008333333333333333,
          0,
          0,
          0,
          0,
          0,
          0,
          0,
          0,
          0,
          0,
          0.03333333333333333,
          0.1708333333333333,
          0.5708333333333333,
          0.7541666666666668,
          0.8291666666666666,
          0.8333333333333334,
          0.8208333333333333,
          0.7291666666666666,
          0.39166666666666666,
          0.2625,
          0.6583333333333333,
          0.8208333333333333,
          0.85,
          0.8458333333333333,
          0.8291666666666666,
          0.8125,
          0.7875,
          0.7291666666666666,
          0.5,
          0.24166666666666667,
          0.09999999999999999,
          0.041666666666666664,
          0.03333333333333333,
          0.029166666666666664,
          0.0375,
          0.025000000000000005,
          0.012500000000000002,
          0.016666666666666666,
          0.025000000000000005,
          0.025000000000000005,
          0.025000000000000005
         ],
         "yaxis": "y"
        }
       ],
       "layout": {
        "height": 300,
        "margin": {
         "b": 0,
         "l": 0,
         "r": 0,
         "t": 50
        },
        "template": {
         "data": {
          "bar": [
           {
            "error_x": {
             "color": "#2a3f5f"
            },
            "error_y": {
             "color": "#2a3f5f"
            },
            "marker": {
             "line": {
              "color": "#E5ECF6",
              "width": 0.5
             },
             "pattern": {
              "fillmode": "overlay",
              "size": 10,
              "solidity": 0.2
             }
            },
            "type": "bar"
           }
          ],
          "barpolar": [
           {
            "marker": {
             "line": {
              "color": "#E5ECF6",
              "width": 0.5
             },
             "pattern": {
              "fillmode": "overlay",
              "size": 10,
              "solidity": 0.2
             }
            },
            "type": "barpolar"
           }
          ],
          "carpet": [
           {
            "aaxis": {
             "endlinecolor": "#2a3f5f",
             "gridcolor": "white",
             "linecolor": "white",
             "minorgridcolor": "white",
             "startlinecolor": "#2a3f5f"
            },
            "baxis": {
             "endlinecolor": "#2a3f5f",
             "gridcolor": "white",
             "linecolor": "white",
             "minorgridcolor": "white",
             "startlinecolor": "#2a3f5f"
            },
            "type": "carpet"
           }
          ],
          "choropleth": [
           {
            "colorbar": {
             "outlinewidth": 0,
             "ticks": ""
            },
            "type": "choropleth"
           }
          ],
          "contour": [
           {
            "colorbar": {
             "outlinewidth": 0,
             "ticks": ""
            },
            "colorscale": [
             [
              0,
              "#0d0887"
             ],
             [
              0.1111111111111111,
              "#46039f"
             ],
             [
              0.2222222222222222,
              "#7201a8"
             ],
             [
              0.3333333333333333,
              "#9c179e"
             ],
             [
              0.4444444444444444,
              "#bd3786"
             ],
             [
              0.5555555555555556,
              "#d8576b"
             ],
             [
              0.6666666666666666,
              "#ed7953"
             ],
             [
              0.7777777777777778,
              "#fb9f3a"
             ],
             [
              0.8888888888888888,
              "#fdca26"
             ],
             [
              1,
              "#f0f921"
             ]
            ],
            "type": "contour"
           }
          ],
          "contourcarpet": [
           {
            "colorbar": {
             "outlinewidth": 0,
             "ticks": ""
            },
            "type": "contourcarpet"
           }
          ],
          "heatmap": [
           {
            "colorbar": {
             "outlinewidth": 0,
             "ticks": ""
            },
            "colorscale": [
             [
              0,
              "#0d0887"
             ],
             [
              0.1111111111111111,
              "#46039f"
             ],
             [
              0.2222222222222222,
              "#7201a8"
             ],
             [
              0.3333333333333333,
              "#9c179e"
             ],
             [
              0.4444444444444444,
              "#bd3786"
             ],
             [
              0.5555555555555556,
              "#d8576b"
             ],
             [
              0.6666666666666666,
              "#ed7953"
             ],
             [
              0.7777777777777778,
              "#fb9f3a"
             ],
             [
              0.8888888888888888,
              "#fdca26"
             ],
             [
              1,
              "#f0f921"
             ]
            ],
            "type": "heatmap"
           }
          ],
          "heatmapgl": [
           {
            "colorbar": {
             "outlinewidth": 0,
             "ticks": ""
            },
            "colorscale": [
             [
              0,
              "#0d0887"
             ],
             [
              0.1111111111111111,
              "#46039f"
             ],
             [
              0.2222222222222222,
              "#7201a8"
             ],
             [
              0.3333333333333333,
              "#9c179e"
             ],
             [
              0.4444444444444444,
              "#bd3786"
             ],
             [
              0.5555555555555556,
              "#d8576b"
             ],
             [
              0.6666666666666666,
              "#ed7953"
             ],
             [
              0.7777777777777778,
              "#fb9f3a"
             ],
             [
              0.8888888888888888,
              "#fdca26"
             ],
             [
              1,
              "#f0f921"
             ]
            ],
            "type": "heatmapgl"
           }
          ],
          "histogram": [
           {
            "marker": {
             "pattern": {
              "fillmode": "overlay",
              "size": 10,
              "solidity": 0.2
             }
            },
            "type": "histogram"
           }
          ],
          "histogram2d": [
           {
            "colorbar": {
             "outlinewidth": 0,
             "ticks": ""
            },
            "colorscale": [
             [
              0,
              "#0d0887"
             ],
             [
              0.1111111111111111,
              "#46039f"
             ],
             [
              0.2222222222222222,
              "#7201a8"
             ],
             [
              0.3333333333333333,
              "#9c179e"
             ],
             [
              0.4444444444444444,
              "#bd3786"
             ],
             [
              0.5555555555555556,
              "#d8576b"
             ],
             [
              0.6666666666666666,
              "#ed7953"
             ],
             [
              0.7777777777777778,
              "#fb9f3a"
             ],
             [
              0.8888888888888888,
              "#fdca26"
             ],
             [
              1,
              "#f0f921"
             ]
            ],
            "type": "histogram2d"
           }
          ],
          "histogram2dcontour": [
           {
            "colorbar": {
             "outlinewidth": 0,
             "ticks": ""
            },
            "colorscale": [
             [
              0,
              "#0d0887"
             ],
             [
              0.1111111111111111,
              "#46039f"
             ],
             [
              0.2222222222222222,
              "#7201a8"
             ],
             [
              0.3333333333333333,
              "#9c179e"
             ],
             [
              0.4444444444444444,
              "#bd3786"
             ],
             [
              0.5555555555555556,
              "#d8576b"
             ],
             [
              0.6666666666666666,
              "#ed7953"
             ],
             [
              0.7777777777777778,
              "#fb9f3a"
             ],
             [
              0.8888888888888888,
              "#fdca26"
             ],
             [
              1,
              "#f0f921"
             ]
            ],
            "type": "histogram2dcontour"
           }
          ],
          "mesh3d": [
           {
            "colorbar": {
             "outlinewidth": 0,
             "ticks": ""
            },
            "type": "mesh3d"
           }
          ],
          "parcoords": [
           {
            "line": {
             "colorbar": {
              "outlinewidth": 0,
              "ticks": ""
             }
            },
            "type": "parcoords"
           }
          ],
          "pie": [
           {
            "automargin": true,
            "type": "pie"
           }
          ],
          "scatter": [
           {
            "fillpattern": {
             "fillmode": "overlay",
             "size": 10,
             "solidity": 0.2
            },
            "type": "scatter"
           }
          ],
          "scatter3d": [
           {
            "line": {
             "colorbar": {
              "outlinewidth": 0,
              "ticks": ""
             }
            },
            "marker": {
             "colorbar": {
              "outlinewidth": 0,
              "ticks": ""
             }
            },
            "type": "scatter3d"
           }
          ],
          "scattercarpet": [
           {
            "marker": {
             "colorbar": {
              "outlinewidth": 0,
              "ticks": ""
             }
            },
            "type": "scattercarpet"
           }
          ],
          "scattergeo": [
           {
            "marker": {
             "colorbar": {
              "outlinewidth": 0,
              "ticks": ""
             }
            },
            "type": "scattergeo"
           }
          ],
          "scattergl": [
           {
            "marker": {
             "colorbar": {
              "outlinewidth": 0,
              "ticks": ""
             }
            },
            "type": "scattergl"
           }
          ],
          "scattermapbox": [
           {
            "marker": {
             "colorbar": {
              "outlinewidth": 0,
              "ticks": ""
             }
            },
            "type": "scattermapbox"
           }
          ],
          "scatterpolar": [
           {
            "marker": {
             "colorbar": {
              "outlinewidth": 0,
              "ticks": ""
             }
            },
            "type": "scatterpolar"
           }
          ],
          "scatterpolargl": [
           {
            "marker": {
             "colorbar": {
              "outlinewidth": 0,
              "ticks": ""
             }
            },
            "type": "scatterpolargl"
           }
          ],
          "scatterternary": [
           {
            "marker": {
             "colorbar": {
              "outlinewidth": 0,
              "ticks": ""
             }
            },
            "type": "scatterternary"
           }
          ],
          "surface": [
           {
            "colorbar": {
             "outlinewidth": 0,
             "ticks": ""
            },
            "colorscale": [
             [
              0,
              "#0d0887"
             ],
             [
              0.1111111111111111,
              "#46039f"
             ],
             [
              0.2222222222222222,
              "#7201a8"
             ],
             [
              0.3333333333333333,
              "#9c179e"
             ],
             [
              0.4444444444444444,
              "#bd3786"
             ],
             [
              0.5555555555555556,
              "#d8576b"
             ],
             [
              0.6666666666666666,
              "#ed7953"
             ],
             [
              0.7777777777777778,
              "#fb9f3a"
             ],
             [
              0.8888888888888888,
              "#fdca26"
             ],
             [
              1,
              "#f0f921"
             ]
            ],
            "type": "surface"
           }
          ],
          "table": [
           {
            "cells": {
             "fill": {
              "color": "#EBF0F8"
             },
             "line": {
              "color": "white"
             }
            },
            "header": {
             "fill": {
              "color": "#C8D4E3"
             },
             "line": {
              "color": "white"
             }
            },
            "type": "table"
           }
          ]
         },
         "layout": {
          "annotationdefaults": {
           "arrowcolor": "#2a3f5f",
           "arrowhead": 0,
           "arrowwidth": 1
          },
          "autotypenumbers": "strict",
          "coloraxis": {
           "colorbar": {
            "outlinewidth": 0,
            "ticks": ""
           }
          },
          "colorscale": {
           "diverging": [
            [
             0,
             "#8e0152"
            ],
            [
             0.1,
             "#c51b7d"
            ],
            [
             0.2,
             "#de77ae"
            ],
            [
             0.3,
             "#f1b6da"
            ],
            [
             0.4,
             "#fde0ef"
            ],
            [
             0.5,
             "#f7f7f7"
            ],
            [
             0.6,
             "#e6f5d0"
            ],
            [
             0.7,
             "#b8e186"
            ],
            [
             0.8,
             "#7fbc41"
            ],
            [
             0.9,
             "#4d9221"
            ],
            [
             1,
             "#276419"
            ]
           ],
           "sequential": [
            [
             0,
             "#0d0887"
            ],
            [
             0.1111111111111111,
             "#46039f"
            ],
            [
             0.2222222222222222,
             "#7201a8"
            ],
            [
             0.3333333333333333,
             "#9c179e"
            ],
            [
             0.4444444444444444,
             "#bd3786"
            ],
            [
             0.5555555555555556,
             "#d8576b"
            ],
            [
             0.6666666666666666,
             "#ed7953"
            ],
            [
             0.7777777777777778,
             "#fb9f3a"
            ],
            [
             0.8888888888888888,
             "#fdca26"
            ],
            [
             1,
             "#f0f921"
            ]
           ],
           "sequentialminus": [
            [
             0,
             "#0d0887"
            ],
            [
             0.1111111111111111,
             "#46039f"
            ],
            [
             0.2222222222222222,
             "#7201a8"
            ],
            [
             0.3333333333333333,
             "#9c179e"
            ],
            [
             0.4444444444444444,
             "#bd3786"
            ],
            [
             0.5555555555555556,
             "#d8576b"
            ],
            [
             0.6666666666666666,
             "#ed7953"
            ],
            [
             0.7777777777777778,
             "#fb9f3a"
            ],
            [
             0.8888888888888888,
             "#fdca26"
            ],
            [
             1,
             "#f0f921"
            ]
           ]
          },
          "colorway": [
           "#636efa",
           "#EF553B",
           "#00cc96",
           "#ab63fa",
           "#FFA15A",
           "#19d3f3",
           "#FF6692",
           "#B6E880",
           "#FF97FF",
           "#FECB52"
          ],
          "font": {
           "color": "#2a3f5f"
          },
          "geo": {
           "bgcolor": "white",
           "lakecolor": "white",
           "landcolor": "#E5ECF6",
           "showlakes": true,
           "showland": true,
           "subunitcolor": "white"
          },
          "hoverlabel": {
           "align": "left"
          },
          "hovermode": "closest",
          "mapbox": {
           "style": "light"
          },
          "paper_bgcolor": "white",
          "plot_bgcolor": "#E5ECF6",
          "polar": {
           "angularaxis": {
            "gridcolor": "white",
            "linecolor": "white",
            "ticks": ""
           },
           "bgcolor": "#E5ECF6",
           "radialaxis": {
            "gridcolor": "white",
            "linecolor": "white",
            "ticks": ""
           }
          },
          "scene": {
           "xaxis": {
            "backgroundcolor": "#E5ECF6",
            "gridcolor": "white",
            "gridwidth": 2,
            "linecolor": "white",
            "showbackground": true,
            "ticks": "",
            "zerolinecolor": "white"
           },
           "yaxis": {
            "backgroundcolor": "#E5ECF6",
            "gridcolor": "white",
            "gridwidth": 2,
            "linecolor": "white",
            "showbackground": true,
            "ticks": "",
            "zerolinecolor": "white"
           },
           "zaxis": {
            "backgroundcolor": "#E5ECF6",
            "gridcolor": "white",
            "gridwidth": 2,
            "linecolor": "white",
            "showbackground": true,
            "ticks": "",
            "zerolinecolor": "white"
           }
          },
          "shapedefaults": {
           "line": {
            "color": "#2a3f5f"
           }
          },
          "ternary": {
           "aaxis": {
            "gridcolor": "white",
            "linecolor": "white",
            "ticks": ""
           },
           "baxis": {
            "gridcolor": "white",
            "linecolor": "white",
            "ticks": ""
           },
           "bgcolor": "#E5ECF6",
           "caxis": {
            "gridcolor": "white",
            "linecolor": "white",
            "ticks": ""
           }
          },
          "title": {
           "x": 0.05
          },
          "xaxis": {
           "automargin": true,
           "gridcolor": "white",
           "linecolor": "white",
           "ticks": "",
           "title": {
            "standoff": 15
           },
           "zerolinecolor": "white",
           "zerolinewidth": 2
          },
          "yaxis": {
           "automargin": true,
           "gridcolor": "white",
           "linecolor": "white",
           "ticks": "",
           "title": {
            "standoff": 15
           },
           "zerolinecolor": "white",
           "zerolinewidth": 2
          }
         }
        },
        "title": {
         "text": "Based on Ground Truth Presence",
         "x": 0.5
        },
        "width": 600,
        "xaxis": {
         "anchor": "y",
         "domain": [
          0,
          1
         ]
        },
        "yaxis": {
         "anchor": "x",
         "domain": [
          0,
          1
         ],
         "range": [
          0,
          1
         ],
         "title": {
          "text": "Presence Probability"
         }
        }
       }
      }
     },
     "metadata": {},
     "output_type": "display_data"
    },
    {
     "data": {
      "application/vnd.plotly.v1+json": {
       "config": {
        "plotlyServerURL": "https://plot.ly"
       },
       "data": [
        {
         "name": "profile",
         "type": "bar",
         "x": [
          "2022-09-09T00:30:00+02:00",
          "2022-09-09T01:00:00+02:00",
          "2022-09-09T01:30:00+02:00",
          "2022-09-09T02:00:00+02:00",
          "2022-09-09T02:30:00+02:00",
          "2022-09-09T03:00:00+02:00",
          "2022-09-09T03:30:00+02:00",
          "2022-09-09T04:00:00+02:00",
          "2022-09-09T04:30:00+02:00",
          "2022-09-09T05:00:00+02:00",
          "2022-09-09T05:30:00+02:00",
          "2022-09-09T06:00:00+02:00",
          "2022-09-09T06:30:00+02:00",
          "2022-09-09T07:00:00+02:00",
          "2022-09-09T07:30:00+02:00",
          "2022-09-09T08:00:00+02:00",
          "2022-09-09T08:30:00+02:00",
          "2022-09-09T09:00:00+02:00",
          "2022-09-09T09:30:00+02:00",
          "2022-09-09T10:00:00+02:00",
          "2022-09-09T10:30:00+02:00",
          "2022-09-09T11:00:00+02:00",
          "2022-09-09T11:30:00+02:00",
          "2022-09-09T12:00:00+02:00",
          "2022-09-09T12:30:00+02:00",
          "2022-09-09T13:00:00+02:00",
          "2022-09-09T13:30:00+02:00",
          "2022-09-09T14:00:00+02:00",
          "2022-09-09T14:30:00+02:00",
          "2022-09-09T15:00:00+02:00",
          "2022-09-09T15:30:00+02:00",
          "2022-09-09T16:00:00+02:00",
          "2022-09-09T16:30:00+02:00",
          "2022-09-09T17:00:00+02:00",
          "2022-09-09T17:30:00+02:00",
          "2022-09-09T18:00:00+02:00",
          "2022-09-09T18:30:00+02:00",
          "2022-09-09T19:00:00+02:00",
          "2022-09-09T19:30:00+02:00",
          "2022-09-09T20:00:00+02:00",
          "2022-09-09T20:30:00+02:00",
          "2022-09-09T21:00:00+02:00",
          "2022-09-09T21:30:00+02:00",
          "2022-09-09T22:00:00+02:00",
          "2022-09-09T22:30:00+02:00",
          "2022-09-09T23:00:00+02:00",
          "2022-09-09T23:30:00+02:00"
         ],
         "xaxis": "x",
         "y": [
          0.029166666666666664,
          0.025000000000000005,
          0.025000000000000005,
          0.025000000000000005,
          0.020833333333333332,
          0.012500000000000002,
          0.012500000000000002,
          0.004166666666666667,
          0.008333333333333333,
          0.012500000000000002,
          0.008333333333333333,
          0.004166666666666667,
          0.016666666666666666,
          0.016666666666666666,
          0.0375,
          0.03333333333333333,
          0.0625,
          0.17500000000000002,
          0.3333333333333333,
          0.4291666666666667,
          0.5499999999999999,
          0.5625,
          0.49583333333333335,
          0.42083333333333334,
          0.2916666666666667,
          0.225,
          0.4375,
          0.5958333333333333,
          0.6166666666666667,
          0.6083333333333334,
          0.5958333333333333,
          0.5708333333333333,
          0.48333333333333334,
          0.5166666666666667,
          0.5333333333333333,
          0.425,
          0.24583333333333335,
          0.1875,
          0.08750000000000001,
          0.05416666666666667,
          0.041666666666666664,
          0.029166666666666664,
          0.025000000000000005,
          0.016666666666666666,
          0.020833333333333332,
          0.025000000000000005,
          0.025000000000000005
         ],
         "yaxis": "y"
        }
       ],
       "layout": {
        "height": 300,
        "margin": {
         "b": 0,
         "l": 0,
         "r": 0,
         "t": 50
        },
        "template": {
         "data": {
          "bar": [
           {
            "error_x": {
             "color": "#2a3f5f"
            },
            "error_y": {
             "color": "#2a3f5f"
            },
            "marker": {
             "line": {
              "color": "#E5ECF6",
              "width": 0.5
             },
             "pattern": {
              "fillmode": "overlay",
              "size": 10,
              "solidity": 0.2
             }
            },
            "type": "bar"
           }
          ],
          "barpolar": [
           {
            "marker": {
             "line": {
              "color": "#E5ECF6",
              "width": 0.5
             },
             "pattern": {
              "fillmode": "overlay",
              "size": 10,
              "solidity": 0.2
             }
            },
            "type": "barpolar"
           }
          ],
          "carpet": [
           {
            "aaxis": {
             "endlinecolor": "#2a3f5f",
             "gridcolor": "white",
             "linecolor": "white",
             "minorgridcolor": "white",
             "startlinecolor": "#2a3f5f"
            },
            "baxis": {
             "endlinecolor": "#2a3f5f",
             "gridcolor": "white",
             "linecolor": "white",
             "minorgridcolor": "white",
             "startlinecolor": "#2a3f5f"
            },
            "type": "carpet"
           }
          ],
          "choropleth": [
           {
            "colorbar": {
             "outlinewidth": 0,
             "ticks": ""
            },
            "type": "choropleth"
           }
          ],
          "contour": [
           {
            "colorbar": {
             "outlinewidth": 0,
             "ticks": ""
            },
            "colorscale": [
             [
              0,
              "#0d0887"
             ],
             [
              0.1111111111111111,
              "#46039f"
             ],
             [
              0.2222222222222222,
              "#7201a8"
             ],
             [
              0.3333333333333333,
              "#9c179e"
             ],
             [
              0.4444444444444444,
              "#bd3786"
             ],
             [
              0.5555555555555556,
              "#d8576b"
             ],
             [
              0.6666666666666666,
              "#ed7953"
             ],
             [
              0.7777777777777778,
              "#fb9f3a"
             ],
             [
              0.8888888888888888,
              "#fdca26"
             ],
             [
              1,
              "#f0f921"
             ]
            ],
            "type": "contour"
           }
          ],
          "contourcarpet": [
           {
            "colorbar": {
             "outlinewidth": 0,
             "ticks": ""
            },
            "type": "contourcarpet"
           }
          ],
          "heatmap": [
           {
            "colorbar": {
             "outlinewidth": 0,
             "ticks": ""
            },
            "colorscale": [
             [
              0,
              "#0d0887"
             ],
             [
              0.1111111111111111,
              "#46039f"
             ],
             [
              0.2222222222222222,
              "#7201a8"
             ],
             [
              0.3333333333333333,
              "#9c179e"
             ],
             [
              0.4444444444444444,
              "#bd3786"
             ],
             [
              0.5555555555555556,
              "#d8576b"
             ],
             [
              0.6666666666666666,
              "#ed7953"
             ],
             [
              0.7777777777777778,
              "#fb9f3a"
             ],
             [
              0.8888888888888888,
              "#fdca26"
             ],
             [
              1,
              "#f0f921"
             ]
            ],
            "type": "heatmap"
           }
          ],
          "heatmapgl": [
           {
            "colorbar": {
             "outlinewidth": 0,
             "ticks": ""
            },
            "colorscale": [
             [
              0,
              "#0d0887"
             ],
             [
              0.1111111111111111,
              "#46039f"
             ],
             [
              0.2222222222222222,
              "#7201a8"
             ],
             [
              0.3333333333333333,
              "#9c179e"
             ],
             [
              0.4444444444444444,
              "#bd3786"
             ],
             [
              0.5555555555555556,
              "#d8576b"
             ],
             [
              0.6666666666666666,
              "#ed7953"
             ],
             [
              0.7777777777777778,
              "#fb9f3a"
             ],
             [
              0.8888888888888888,
              "#fdca26"
             ],
             [
              1,
              "#f0f921"
             ]
            ],
            "type": "heatmapgl"
           }
          ],
          "histogram": [
           {
            "marker": {
             "pattern": {
              "fillmode": "overlay",
              "size": 10,
              "solidity": 0.2
             }
            },
            "type": "histogram"
           }
          ],
          "histogram2d": [
           {
            "colorbar": {
             "outlinewidth": 0,
             "ticks": ""
            },
            "colorscale": [
             [
              0,
              "#0d0887"
             ],
             [
              0.1111111111111111,
              "#46039f"
             ],
             [
              0.2222222222222222,
              "#7201a8"
             ],
             [
              0.3333333333333333,
              "#9c179e"
             ],
             [
              0.4444444444444444,
              "#bd3786"
             ],
             [
              0.5555555555555556,
              "#d8576b"
             ],
             [
              0.6666666666666666,
              "#ed7953"
             ],
             [
              0.7777777777777778,
              "#fb9f3a"
             ],
             [
              0.8888888888888888,
              "#fdca26"
             ],
             [
              1,
              "#f0f921"
             ]
            ],
            "type": "histogram2d"
           }
          ],
          "histogram2dcontour": [
           {
            "colorbar": {
             "outlinewidth": 0,
             "ticks": ""
            },
            "colorscale": [
             [
              0,
              "#0d0887"
             ],
             [
              0.1111111111111111,
              "#46039f"
             ],
             [
              0.2222222222222222,
              "#7201a8"
             ],
             [
              0.3333333333333333,
              "#9c179e"
             ],
             [
              0.4444444444444444,
              "#bd3786"
             ],
             [
              0.5555555555555556,
              "#d8576b"
             ],
             [
              0.6666666666666666,
              "#ed7953"
             ],
             [
              0.7777777777777778,
              "#fb9f3a"
             ],
             [
              0.8888888888888888,
              "#fdca26"
             ],
             [
              1,
              "#f0f921"
             ]
            ],
            "type": "histogram2dcontour"
           }
          ],
          "mesh3d": [
           {
            "colorbar": {
             "outlinewidth": 0,
             "ticks": ""
            },
            "type": "mesh3d"
           }
          ],
          "parcoords": [
           {
            "line": {
             "colorbar": {
              "outlinewidth": 0,
              "ticks": ""
             }
            },
            "type": "parcoords"
           }
          ],
          "pie": [
           {
            "automargin": true,
            "type": "pie"
           }
          ],
          "scatter": [
           {
            "fillpattern": {
             "fillmode": "overlay",
             "size": 10,
             "solidity": 0.2
            },
            "type": "scatter"
           }
          ],
          "scatter3d": [
           {
            "line": {
             "colorbar": {
              "outlinewidth": 0,
              "ticks": ""
             }
            },
            "marker": {
             "colorbar": {
              "outlinewidth": 0,
              "ticks": ""
             }
            },
            "type": "scatter3d"
           }
          ],
          "scattercarpet": [
           {
            "marker": {
             "colorbar": {
              "outlinewidth": 0,
              "ticks": ""
             }
            },
            "type": "scattercarpet"
           }
          ],
          "scattergeo": [
           {
            "marker": {
             "colorbar": {
              "outlinewidth": 0,
              "ticks": ""
             }
            },
            "type": "scattergeo"
           }
          ],
          "scattergl": [
           {
            "marker": {
             "colorbar": {
              "outlinewidth": 0,
              "ticks": ""
             }
            },
            "type": "scattergl"
           }
          ],
          "scattermapbox": [
           {
            "marker": {
             "colorbar": {
              "outlinewidth": 0,
              "ticks": ""
             }
            },
            "type": "scattermapbox"
           }
          ],
          "scatterpolar": [
           {
            "marker": {
             "colorbar": {
              "outlinewidth": 0,
              "ticks": ""
             }
            },
            "type": "scatterpolar"
           }
          ],
          "scatterpolargl": [
           {
            "marker": {
             "colorbar": {
              "outlinewidth": 0,
              "ticks": ""
             }
            },
            "type": "scatterpolargl"
           }
          ],
          "scatterternary": [
           {
            "marker": {
             "colorbar": {
              "outlinewidth": 0,
              "ticks": ""
             }
            },
            "type": "scatterternary"
           }
          ],
          "surface": [
           {
            "colorbar": {
             "outlinewidth": 0,
             "ticks": ""
            },
            "colorscale": [
             [
              0,
              "#0d0887"
             ],
             [
              0.1111111111111111,
              "#46039f"
             ],
             [
              0.2222222222222222,
              "#7201a8"
             ],
             [
              0.3333333333333333,
              "#9c179e"
             ],
             [
              0.4444444444444444,
              "#bd3786"
             ],
             [
              0.5555555555555556,
              "#d8576b"
             ],
             [
              0.6666666666666666,
              "#ed7953"
             ],
             [
              0.7777777777777778,
              "#fb9f3a"
             ],
             [
              0.8888888888888888,
              "#fdca26"
             ],
             [
              1,
              "#f0f921"
             ]
            ],
            "type": "surface"
           }
          ],
          "table": [
           {
            "cells": {
             "fill": {
              "color": "#EBF0F8"
             },
             "line": {
              "color": "white"
             }
            },
            "header": {
             "fill": {
              "color": "#C8D4E3"
             },
             "line": {
              "color": "white"
             }
            },
            "type": "table"
           }
          ]
         },
         "layout": {
          "annotationdefaults": {
           "arrowcolor": "#2a3f5f",
           "arrowhead": 0,
           "arrowwidth": 1
          },
          "autotypenumbers": "strict",
          "coloraxis": {
           "colorbar": {
            "outlinewidth": 0,
            "ticks": ""
           }
          },
          "colorscale": {
           "diverging": [
            [
             0,
             "#8e0152"
            ],
            [
             0.1,
             "#c51b7d"
            ],
            [
             0.2,
             "#de77ae"
            ],
            [
             0.3,
             "#f1b6da"
            ],
            [
             0.4,
             "#fde0ef"
            ],
            [
             0.5,
             "#f7f7f7"
            ],
            [
             0.6,
             "#e6f5d0"
            ],
            [
             0.7,
             "#b8e186"
            ],
            [
             0.8,
             "#7fbc41"
            ],
            [
             0.9,
             "#4d9221"
            ],
            [
             1,
             "#276419"
            ]
           ],
           "sequential": [
            [
             0,
             "#0d0887"
            ],
            [
             0.1111111111111111,
             "#46039f"
            ],
            [
             0.2222222222222222,
             "#7201a8"
            ],
            [
             0.3333333333333333,
             "#9c179e"
            ],
            [
             0.4444444444444444,
             "#bd3786"
            ],
            [
             0.5555555555555556,
             "#d8576b"
            ],
            [
             0.6666666666666666,
             "#ed7953"
            ],
            [
             0.7777777777777778,
             "#fb9f3a"
            ],
            [
             0.8888888888888888,
             "#fdca26"
            ],
            [
             1,
             "#f0f921"
            ]
           ],
           "sequentialminus": [
            [
             0,
             "#0d0887"
            ],
            [
             0.1111111111111111,
             "#46039f"
            ],
            [
             0.2222222222222222,
             "#7201a8"
            ],
            [
             0.3333333333333333,
             "#9c179e"
            ],
            [
             0.4444444444444444,
             "#bd3786"
            ],
            [
             0.5555555555555556,
             "#d8576b"
            ],
            [
             0.6666666666666666,
             "#ed7953"
            ],
            [
             0.7777777777777778,
             "#fb9f3a"
            ],
            [
             0.8888888888888888,
             "#fdca26"
            ],
            [
             1,
             "#f0f921"
            ]
           ]
          },
          "colorway": [
           "#636efa",
           "#EF553B",
           "#00cc96",
           "#ab63fa",
           "#FFA15A",
           "#19d3f3",
           "#FF6692",
           "#B6E880",
           "#FF97FF",
           "#FECB52"
          ],
          "font": {
           "color": "#2a3f5f"
          },
          "geo": {
           "bgcolor": "white",
           "lakecolor": "white",
           "landcolor": "#E5ECF6",
           "showlakes": true,
           "showland": true,
           "subunitcolor": "white"
          },
          "hoverlabel": {
           "align": "left"
          },
          "hovermode": "closest",
          "mapbox": {
           "style": "light"
          },
          "paper_bgcolor": "white",
          "plot_bgcolor": "#E5ECF6",
          "polar": {
           "angularaxis": {
            "gridcolor": "white",
            "linecolor": "white",
            "ticks": ""
           },
           "bgcolor": "#E5ECF6",
           "radialaxis": {
            "gridcolor": "white",
            "linecolor": "white",
            "ticks": ""
           }
          },
          "scene": {
           "xaxis": {
            "backgroundcolor": "#E5ECF6",
            "gridcolor": "white",
            "gridwidth": 2,
            "linecolor": "white",
            "showbackground": true,
            "ticks": "",
            "zerolinecolor": "white"
           },
           "yaxis": {
            "backgroundcolor": "#E5ECF6",
            "gridcolor": "white",
            "gridwidth": 2,
            "linecolor": "white",
            "showbackground": true,
            "ticks": "",
            "zerolinecolor": "white"
           },
           "zaxis": {
            "backgroundcolor": "#E5ECF6",
            "gridcolor": "white",
            "gridwidth": 2,
            "linecolor": "white",
            "showbackground": true,
            "ticks": "",
            "zerolinecolor": "white"
           }
          },
          "shapedefaults": {
           "line": {
            "color": "#2a3f5f"
           }
          },
          "ternary": {
           "aaxis": {
            "gridcolor": "white",
            "linecolor": "white",
            "ticks": ""
           },
           "baxis": {
            "gridcolor": "white",
            "linecolor": "white",
            "ticks": ""
           },
           "bgcolor": "#E5ECF6",
           "caxis": {
            "gridcolor": "white",
            "linecolor": "white",
            "ticks": ""
           }
          },
          "title": {
           "x": 0.05
          },
          "xaxis": {
           "automargin": true,
           "gridcolor": "white",
           "linecolor": "white",
           "ticks": "",
           "title": {
            "standoff": 15
           },
           "zerolinecolor": "white",
           "zerolinewidth": 2
          },
          "yaxis": {
           "automargin": true,
           "gridcolor": "white",
           "linecolor": "white",
           "ticks": "",
           "title": {
            "standoff": 15
           },
           "zerolinecolor": "white",
           "zerolinewidth": 2
          }
         }
        },
        "title": {
         "text": "Based on Predicted Presence",
         "x": 0.5
        },
        "width": 600,
        "xaxis": {
         "anchor": "y",
         "domain": [
          0,
          1
         ]
        },
        "yaxis": {
         "anchor": "x",
         "domain": [
          0,
          1
         ],
         "range": [
          0,
          1
         ],
         "title": {
          "text": "Presence Probability"
         }
        }
       }
      }
     },
     "metadata": {},
     "output_type": "display_data"
    }
   ],
   "source": [
    "# Select example day for visualization.\n",
    "df_profile_workday = df_profile[(df_profile.index > '2022-09-09') & (df_profile.index < '2022-09-10')]\n",
    "\n",
    "# Visualize ground truth and predicted profile.\n",
    "for title, column in {'Based on Ground Truth Presence': 'presence_gt', 'Based on Predicted Presence': 'presence_predicted'}.items():\n",
    "    fig = make_subplots(rows=1, cols=1)\n",
    "\n",
    "    fig.add_trace(\n",
    "        go.Bar(\n",
    "            name='profile',\n",
    "            x=df_profile_workday.index,\n",
    "            y=df_profile_workday[column],\n",
    "        ),\n",
    "        row=1,\n",
    "        col=1,\n",
    "    )\n",
    "\n",
    "    fig.update_yaxes(title_text='Presence Probability', range=[0, 1])\n",
    "    fig.update_layout(title_text=title, title_x=0.5, margin={'t': 50, 'r': 0, 'b': 0, 'l': 0}, width=600, height=300)\n",
    "    fig.show()\n"
   ]
  },
  {
   "cell_type": "markdown",
   "metadata": {},
   "source": [
    "# Average day (Monday to Friday)"
   ]
  },
  {
   "cell_type": "code",
   "execution_count": 8,
   "metadata": {},
   "outputs": [
    {
     "name": "stdout",
     "output_type": "stream",
     "text": [
      "MAE: 0.052 ± 0.103\n"
     ]
    }
   ],
   "source": [
    "# Build dataframe.\n",
    "df_profile = df_y_test.rename(columns={'presence__last__w=10m': 'presence_gt'}).copy()\n",
    "df_profile['presence_predicted'] = test_pred\n",
    "\n",
    "# Prepare columns for grouping.\n",
    "df_profile['day'] = df_profile.index.weekday # Monday = 0\n",
    "df_profile['hour'] = df_profile.index.hour\n",
    "df_profile['minute'] = df_profile.index.minute\n",
    "\n",
    "# Group and perform rolling average per group.\n",
    "df_profile = df_profile.groupby(['day', 'hour', 'minute']).transform(lambda s: s.rolling(f'{PROFILE_WINDOW_SIZE}D').mean())\n",
    "\n",
    "# resample.\n",
    "df_profile = df_profile.resample('30min', label='left').mean()\n",
    "\n",
    "# Calculate MAE of predicted profile with respect to ground truth profile.\n",
    "print('MAE:', (df_profile['presence_gt'] - df_profile['presence_predicted']).abs().mean().round(3), '±', (df_profile['presence_gt'] - df_profile['presence_predicted']).abs().std().round(3))\n"
   ]
  },
  {
   "cell_type": "code",
   "execution_count": 9,
   "metadata": {},
   "outputs": [
    {
     "data": {
      "application/vnd.plotly.v1+json": {
       "config": {
        "plotlyServerURL": "https://plot.ly"
       },
       "data": [
        {
         "name": "profile",
         "type": "bar",
         "x": [
          "2022-09-05T00:30:00+02:00",
          "2022-09-05T01:00:00+02:00",
          "2022-09-05T01:30:00+02:00",
          "2022-09-05T02:00:00+02:00",
          "2022-09-05T02:30:00+02:00",
          "2022-09-05T03:00:00+02:00",
          "2022-09-05T03:30:00+02:00",
          "2022-09-05T04:00:00+02:00",
          "2022-09-05T04:30:00+02:00",
          "2022-09-05T05:00:00+02:00",
          "2022-09-05T05:30:00+02:00",
          "2022-09-05T06:00:00+02:00",
          "2022-09-05T06:30:00+02:00",
          "2022-09-05T07:00:00+02:00",
          "2022-09-05T07:30:00+02:00",
          "2022-09-05T08:00:00+02:00",
          "2022-09-05T08:30:00+02:00",
          "2022-09-05T09:00:00+02:00",
          "2022-09-05T09:30:00+02:00",
          "2022-09-05T10:00:00+02:00",
          "2022-09-05T10:30:00+02:00",
          "2022-09-05T11:00:00+02:00",
          "2022-09-05T11:30:00+02:00",
          "2022-09-05T12:00:00+02:00",
          "2022-09-05T12:30:00+02:00",
          "2022-09-05T13:00:00+02:00",
          "2022-09-05T13:30:00+02:00",
          "2022-09-05T14:00:00+02:00",
          "2022-09-05T14:30:00+02:00",
          "2022-09-05T15:00:00+02:00",
          "2022-09-05T15:30:00+02:00",
          "2022-09-05T16:00:00+02:00",
          "2022-09-05T16:30:00+02:00",
          "2022-09-05T17:00:00+02:00",
          "2022-09-05T17:30:00+02:00",
          "2022-09-05T18:00:00+02:00",
          "2022-09-05T18:30:00+02:00",
          "2022-09-05T19:00:00+02:00",
          "2022-09-05T19:30:00+02:00",
          "2022-09-05T20:00:00+02:00",
          "2022-09-05T20:30:00+02:00",
          "2022-09-05T21:00:00+02:00",
          "2022-09-05T21:30:00+02:00",
          "2022-09-05T22:00:00+02:00",
          "2022-09-05T22:30:00+02:00",
          "2022-09-05T23:00:00+02:00",
          "2022-09-05T23:30:00+02:00",
          "2022-09-06T00:00:00+02:00",
          "2022-09-06T00:30:00+02:00",
          "2022-09-06T01:00:00+02:00",
          "2022-09-06T01:30:00+02:00",
          "2022-09-06T02:00:00+02:00",
          "2022-09-06T02:30:00+02:00",
          "2022-09-06T03:00:00+02:00",
          "2022-09-06T03:30:00+02:00",
          "2022-09-06T04:00:00+02:00",
          "2022-09-06T04:30:00+02:00",
          "2022-09-06T05:00:00+02:00",
          "2022-09-06T05:30:00+02:00",
          "2022-09-06T06:00:00+02:00",
          "2022-09-06T06:30:00+02:00",
          "2022-09-06T07:00:00+02:00",
          "2022-09-06T07:30:00+02:00",
          "2022-09-06T08:00:00+02:00",
          "2022-09-06T08:30:00+02:00",
          "2022-09-06T09:00:00+02:00",
          "2022-09-06T09:30:00+02:00",
          "2022-09-06T10:00:00+02:00",
          "2022-09-06T10:30:00+02:00",
          "2022-09-06T11:00:00+02:00",
          "2022-09-06T11:30:00+02:00",
          "2022-09-06T12:00:00+02:00",
          "2022-09-06T12:30:00+02:00",
          "2022-09-06T13:00:00+02:00",
          "2022-09-06T13:30:00+02:00",
          "2022-09-06T14:00:00+02:00",
          "2022-09-06T14:30:00+02:00",
          "2022-09-06T15:00:00+02:00",
          "2022-09-06T15:30:00+02:00",
          "2022-09-06T16:00:00+02:00",
          "2022-09-06T16:30:00+02:00",
          "2022-09-06T17:00:00+02:00",
          "2022-09-06T17:30:00+02:00",
          "2022-09-06T18:00:00+02:00",
          "2022-09-06T18:30:00+02:00",
          "2022-09-06T19:00:00+02:00",
          "2022-09-06T19:30:00+02:00",
          "2022-09-06T20:00:00+02:00",
          "2022-09-06T20:30:00+02:00",
          "2022-09-06T21:00:00+02:00",
          "2022-09-06T21:30:00+02:00",
          "2022-09-06T22:00:00+02:00",
          "2022-09-06T22:30:00+02:00",
          "2022-09-06T23:00:00+02:00",
          "2022-09-06T23:30:00+02:00",
          "2022-09-07T00:00:00+02:00",
          "2022-09-07T00:30:00+02:00",
          "2022-09-07T01:00:00+02:00",
          "2022-09-07T01:30:00+02:00",
          "2022-09-07T02:00:00+02:00",
          "2022-09-07T02:30:00+02:00",
          "2022-09-07T03:00:00+02:00",
          "2022-09-07T03:30:00+02:00",
          "2022-09-07T04:00:00+02:00",
          "2022-09-07T04:30:00+02:00",
          "2022-09-07T05:00:00+02:00",
          "2022-09-07T05:30:00+02:00",
          "2022-09-07T06:00:00+02:00",
          "2022-09-07T06:30:00+02:00",
          "2022-09-07T07:00:00+02:00",
          "2022-09-07T07:30:00+02:00",
          "2022-09-07T08:00:00+02:00",
          "2022-09-07T08:30:00+02:00",
          "2022-09-07T09:00:00+02:00",
          "2022-09-07T09:30:00+02:00",
          "2022-09-07T10:00:00+02:00",
          "2022-09-07T10:30:00+02:00",
          "2022-09-07T11:00:00+02:00",
          "2022-09-07T11:30:00+02:00",
          "2022-09-07T12:00:00+02:00",
          "2022-09-07T12:30:00+02:00",
          "2022-09-07T13:00:00+02:00",
          "2022-09-07T13:30:00+02:00",
          "2022-09-07T14:00:00+02:00",
          "2022-09-07T14:30:00+02:00",
          "2022-09-07T15:00:00+02:00",
          "2022-09-07T15:30:00+02:00",
          "2022-09-07T16:00:00+02:00",
          "2022-09-07T16:30:00+02:00",
          "2022-09-07T17:00:00+02:00",
          "2022-09-07T17:30:00+02:00",
          "2022-09-07T18:00:00+02:00",
          "2022-09-07T18:30:00+02:00",
          "2022-09-07T19:00:00+02:00",
          "2022-09-07T19:30:00+02:00",
          "2022-09-07T20:00:00+02:00",
          "2022-09-07T20:30:00+02:00",
          "2022-09-07T21:00:00+02:00",
          "2022-09-07T21:30:00+02:00",
          "2022-09-07T22:00:00+02:00",
          "2022-09-07T22:30:00+02:00",
          "2022-09-07T23:00:00+02:00",
          "2022-09-07T23:30:00+02:00",
          "2022-09-08T00:00:00+02:00",
          "2022-09-08T00:30:00+02:00",
          "2022-09-08T01:00:00+02:00",
          "2022-09-08T01:30:00+02:00",
          "2022-09-08T02:00:00+02:00",
          "2022-09-08T02:30:00+02:00",
          "2022-09-08T03:00:00+02:00",
          "2022-09-08T03:30:00+02:00",
          "2022-09-08T04:00:00+02:00",
          "2022-09-08T04:30:00+02:00",
          "2022-09-08T05:00:00+02:00",
          "2022-09-08T05:30:00+02:00",
          "2022-09-08T06:00:00+02:00",
          "2022-09-08T06:30:00+02:00",
          "2022-09-08T07:00:00+02:00",
          "2022-09-08T07:30:00+02:00",
          "2022-09-08T08:00:00+02:00",
          "2022-09-08T08:30:00+02:00",
          "2022-09-08T09:00:00+02:00",
          "2022-09-08T09:30:00+02:00",
          "2022-09-08T10:00:00+02:00",
          "2022-09-08T10:30:00+02:00",
          "2022-09-08T11:00:00+02:00",
          "2022-09-08T11:30:00+02:00",
          "2022-09-08T12:00:00+02:00",
          "2022-09-08T12:30:00+02:00",
          "2022-09-08T13:00:00+02:00",
          "2022-09-08T13:30:00+02:00",
          "2022-09-08T14:00:00+02:00",
          "2022-09-08T14:30:00+02:00",
          "2022-09-08T15:00:00+02:00",
          "2022-09-08T15:30:00+02:00",
          "2022-09-08T16:00:00+02:00",
          "2022-09-08T16:30:00+02:00",
          "2022-09-08T17:00:00+02:00",
          "2022-09-08T17:30:00+02:00",
          "2022-09-08T18:00:00+02:00",
          "2022-09-08T18:30:00+02:00",
          "2022-09-08T19:00:00+02:00",
          "2022-09-08T19:30:00+02:00",
          "2022-09-08T20:00:00+02:00",
          "2022-09-08T20:30:00+02:00",
          "2022-09-08T21:00:00+02:00",
          "2022-09-08T21:30:00+02:00",
          "2022-09-08T22:00:00+02:00",
          "2022-09-08T22:30:00+02:00",
          "2022-09-08T23:00:00+02:00",
          "2022-09-08T23:30:00+02:00",
          "2022-09-09T00:00:00+02:00",
          "2022-09-09T00:30:00+02:00",
          "2022-09-09T01:00:00+02:00",
          "2022-09-09T01:30:00+02:00",
          "2022-09-09T02:00:00+02:00",
          "2022-09-09T02:30:00+02:00",
          "2022-09-09T03:00:00+02:00",
          "2022-09-09T03:30:00+02:00",
          "2022-09-09T04:00:00+02:00",
          "2022-09-09T04:30:00+02:00",
          "2022-09-09T05:00:00+02:00",
          "2022-09-09T05:30:00+02:00",
          "2022-09-09T06:00:00+02:00",
          "2022-09-09T06:30:00+02:00",
          "2022-09-09T07:00:00+02:00",
          "2022-09-09T07:30:00+02:00",
          "2022-09-09T08:00:00+02:00",
          "2022-09-09T08:30:00+02:00",
          "2022-09-09T09:00:00+02:00",
          "2022-09-09T09:30:00+02:00",
          "2022-09-09T10:00:00+02:00",
          "2022-09-09T10:30:00+02:00",
          "2022-09-09T11:00:00+02:00",
          "2022-09-09T11:30:00+02:00",
          "2022-09-09T12:00:00+02:00",
          "2022-09-09T12:30:00+02:00",
          "2022-09-09T13:00:00+02:00",
          "2022-09-09T13:30:00+02:00",
          "2022-09-09T14:00:00+02:00",
          "2022-09-09T14:30:00+02:00",
          "2022-09-09T15:00:00+02:00",
          "2022-09-09T15:30:00+02:00",
          "2022-09-09T16:00:00+02:00",
          "2022-09-09T16:30:00+02:00",
          "2022-09-09T17:00:00+02:00",
          "2022-09-09T17:30:00+02:00",
          "2022-09-09T18:00:00+02:00",
          "2022-09-09T18:30:00+02:00",
          "2022-09-09T19:00:00+02:00",
          "2022-09-09T19:30:00+02:00",
          "2022-09-09T20:00:00+02:00",
          "2022-09-09T20:30:00+02:00",
          "2022-09-09T21:00:00+02:00",
          "2022-09-09T21:30:00+02:00",
          "2022-09-09T22:00:00+02:00",
          "2022-09-09T22:30:00+02:00",
          "2022-09-09T23:00:00+02:00",
          "2022-09-09T23:30:00+02:00",
          "2022-09-10T00:00:00+02:00",
          "2022-09-10T00:30:00+02:00",
          "2022-09-10T01:00:00+02:00",
          "2022-09-10T01:30:00+02:00",
          "2022-09-10T02:00:00+02:00",
          "2022-09-10T02:30:00+02:00",
          "2022-09-10T03:00:00+02:00",
          "2022-09-10T03:30:00+02:00",
          "2022-09-10T04:00:00+02:00",
          "2022-09-10T04:30:00+02:00",
          "2022-09-10T05:00:00+02:00",
          "2022-09-10T05:30:00+02:00",
          "2022-09-10T06:00:00+02:00",
          "2022-09-10T06:30:00+02:00",
          "2022-09-10T07:00:00+02:00",
          "2022-09-10T07:30:00+02:00",
          "2022-09-10T08:00:00+02:00",
          "2022-09-10T08:30:00+02:00",
          "2022-09-10T09:00:00+02:00",
          "2022-09-10T09:30:00+02:00",
          "2022-09-10T10:00:00+02:00",
          "2022-09-10T10:30:00+02:00",
          "2022-09-10T11:00:00+02:00",
          "2022-09-10T11:30:00+02:00",
          "2022-09-10T12:00:00+02:00",
          "2022-09-10T12:30:00+02:00",
          "2022-09-10T13:00:00+02:00",
          "2022-09-10T13:30:00+02:00",
          "2022-09-10T14:00:00+02:00",
          "2022-09-10T14:30:00+02:00",
          "2022-09-10T15:00:00+02:00",
          "2022-09-10T15:30:00+02:00",
          "2022-09-10T16:00:00+02:00",
          "2022-09-10T16:30:00+02:00",
          "2022-09-10T17:00:00+02:00",
          "2022-09-10T17:30:00+02:00",
          "2022-09-10T18:00:00+02:00",
          "2022-09-10T18:30:00+02:00",
          "2022-09-10T19:00:00+02:00",
          "2022-09-10T19:30:00+02:00",
          "2022-09-10T20:00:00+02:00",
          "2022-09-10T20:30:00+02:00",
          "2022-09-10T21:00:00+02:00",
          "2022-09-10T21:30:00+02:00",
          "2022-09-10T22:00:00+02:00",
          "2022-09-10T22:30:00+02:00",
          "2022-09-10T23:00:00+02:00",
          "2022-09-10T23:30:00+02:00",
          "2022-09-11T00:00:00+02:00",
          "2022-09-11T00:30:00+02:00",
          "2022-09-11T01:00:00+02:00",
          "2022-09-11T01:30:00+02:00",
          "2022-09-11T02:00:00+02:00",
          "2022-09-11T02:30:00+02:00",
          "2022-09-11T03:00:00+02:00",
          "2022-09-11T03:30:00+02:00",
          "2022-09-11T04:00:00+02:00",
          "2022-09-11T04:30:00+02:00",
          "2022-09-11T05:00:00+02:00",
          "2022-09-11T05:30:00+02:00",
          "2022-09-11T06:00:00+02:00",
          "2022-09-11T06:30:00+02:00",
          "2022-09-11T07:00:00+02:00",
          "2022-09-11T07:30:00+02:00",
          "2022-09-11T08:00:00+02:00",
          "2022-09-11T08:30:00+02:00",
          "2022-09-11T09:00:00+02:00",
          "2022-09-11T09:30:00+02:00",
          "2022-09-11T10:00:00+02:00",
          "2022-09-11T10:30:00+02:00",
          "2022-09-11T11:00:00+02:00",
          "2022-09-11T11:30:00+02:00",
          "2022-09-11T12:00:00+02:00",
          "2022-09-11T12:30:00+02:00",
          "2022-09-11T13:00:00+02:00",
          "2022-09-11T13:30:00+02:00",
          "2022-09-11T14:00:00+02:00",
          "2022-09-11T14:30:00+02:00",
          "2022-09-11T15:00:00+02:00",
          "2022-09-11T15:30:00+02:00",
          "2022-09-11T16:00:00+02:00",
          "2022-09-11T16:30:00+02:00",
          "2022-09-11T17:00:00+02:00",
          "2022-09-11T17:30:00+02:00",
          "2022-09-11T18:00:00+02:00",
          "2022-09-11T18:30:00+02:00",
          "2022-09-11T19:00:00+02:00",
          "2022-09-11T19:30:00+02:00",
          "2022-09-11T20:00:00+02:00",
          "2022-09-11T20:30:00+02:00",
          "2022-09-11T21:00:00+02:00",
          "2022-09-11T21:30:00+02:00",
          "2022-09-11T22:00:00+02:00",
          "2022-09-11T22:30:00+02:00",
          "2022-09-11T23:00:00+02:00",
          "2022-09-11T23:30:00+02:00"
         ],
         "xaxis": "x",
         "y": [
          0,
          0,
          0,
          0,
          0,
          0,
          0,
          0,
          0,
          0,
          0,
          0,
          0,
          0,
          0,
          0,
          0.041666666666666664,
          0.16666666666666666,
          0.625,
          0.75,
          0.7916666666666666,
          0.8125,
          0.8125,
          0.75,
          0.4166666666666667,
          0.1875,
          0.5,
          0.7916666666666666,
          0.7916666666666666,
          0.75,
          0.7916666666666666,
          0.7708333333333334,
          0.75,
          0.7291666666666666,
          0.5625,
          0.3125,
          0.08333333333333333,
          0,
          0,
          0,
          0,
          0,
          0,
          0,
          0,
          0,
          0,
          0,
          0,
          0,
          0,
          0,
          0,
          0,
          0,
          0,
          0,
          0,
          0,
          0,
          0,
          0,
          0,
          0,
          0.020833333333333332,
          0.20833333333333334,
          0.6666666666666666,
          0.9166666666666666,
          0.9791666666666666,
          0.9791666666666666,
          1,
          0.8541666666666666,
          0.5625,
          0.3333333333333333,
          0.7291666666666666,
          0.9583333333333334,
          1,
          0.9791666666666666,
          0.9791666666666666,
          0.9375,
          1,
          0.9583333333333334,
          0.625,
          0.3333333333333333,
          0.1875,
          0.10416666666666667,
          0.0625,
          0.0625,
          0.0625,
          0,
          0,
          0,
          0,
          0,
          0,
          0,
          0,
          0,
          0,
          0,
          0,
          0,
          0,
          0,
          0,
          0,
          0,
          0,
          0,
          0,
          0,
          0,
          0.041666666666666664,
          0.14583333333333334,
          0.6458333333333334,
          0.8541666666666666,
          0.875,
          0.9166666666666666,
          0.9375,
          0.8541666666666666,
          0.3333333333333333,
          0.25,
          0.7708333333333334,
          0.9375,
          0.9375,
          0.9375,
          0.9375,
          0.8958333333333334,
          0.875,
          0.7916666666666666,
          0.5,
          0.2708333333333333,
          0.08333333333333333,
          0,
          0,
          0.020833333333333332,
          0.0625,
          0.0625,
          0.0625,
          0.0625,
          0.0625,
          0.0625,
          0.0625,
          0.0625,
          0.0625,
          0.0625,
          0.0625,
          0,
          0,
          0,
          0,
          0,
          0,
          0,
          0,
          0,
          0,
          0,
          0,
          0,
          0,
          0.16666666666666666,
          0.4375,
          0.6666666666666666,
          0.7291666666666666,
          0.6666666666666666,
          0.6875,
          0.5625,
          0.2916666666666667,
          0.16666666666666666,
          0.6458333333333334,
          0.75,
          0.75,
          0.75,
          0.6666666666666666,
          0.7083333333333334,
          0.6041666666666666,
          0.6041666666666666,
          0.4166666666666667,
          0.08333333333333333,
          0.0625,
          0.041666666666666664,
          0.0625,
          0.0625,
          0.0625,
          0.0625,
          0,
          0.020833333333333332,
          0.0625,
          0.0625,
          0.0625,
          0.0625,
          0.0625,
          0.0625,
          0.0625,
          0.0625,
          0.0625,
          0.041666666666666664,
          0,
          0,
          0,
          0,
          0,
          0,
          0,
          0,
          0,
          0,
          0.0625,
          0.16666666666666666,
          0.4791666666666667,
          0.5833333333333334,
          0.7708333333333334,
          0.7916666666666666,
          0.6666666666666666,
          0.625,
          0.3541666666666667,
          0.375,
          0.6458333333333334,
          0.6666666666666666,
          0.7708333333333334,
          0.8125,
          0.7708333333333334,
          0.75,
          0.7083333333333334,
          0.5625,
          0.3958333333333333,
          0.20833333333333334,
          0.08333333333333333,
          0.0625,
          0.041666666666666664,
          0,
          0,
          0,
          0,
          0,
          0,
          0,
          0,
          0,
          0,
          0,
          0,
          0,
          0,
          0,
          0,
          0,
          0,
          0,
          0,
          0,
          0,
          0,
          0,
          0,
          0,
          0,
          0,
          0,
          0,
          0,
          0,
          0,
          0,
          0,
          0,
          0,
          0,
          0,
          0,
          0,
          0,
          0,
          0,
          0,
          0,
          0,
          0,
          0,
          0,
          0,
          0,
          0,
          0,
          0,
          0,
          0,
          0,
          0,
          0,
          0,
          0,
          0,
          0,
          0,
          0,
          0,
          0,
          0,
          0,
          0,
          0,
          0,
          0,
          0,
          0,
          0,
          0,
          0,
          0,
          0,
          0,
          0,
          0,
          0,
          0,
          0,
          0,
          0,
          0,
          0,
          0,
          0,
          0,
          0,
          0,
          0,
          0,
          0,
          0,
          0,
          0,
          0,
          0
         ],
         "yaxis": "y"
        }
       ],
       "layout": {
        "height": 300,
        "margin": {
         "b": 0,
         "l": 0,
         "r": 0,
         "t": 50
        },
        "template": {
         "data": {
          "bar": [
           {
            "error_x": {
             "color": "#2a3f5f"
            },
            "error_y": {
             "color": "#2a3f5f"
            },
            "marker": {
             "line": {
              "color": "#E5ECF6",
              "width": 0.5
             },
             "pattern": {
              "fillmode": "overlay",
              "size": 10,
              "solidity": 0.2
             }
            },
            "type": "bar"
           }
          ],
          "barpolar": [
           {
            "marker": {
             "line": {
              "color": "#E5ECF6",
              "width": 0.5
             },
             "pattern": {
              "fillmode": "overlay",
              "size": 10,
              "solidity": 0.2
             }
            },
            "type": "barpolar"
           }
          ],
          "carpet": [
           {
            "aaxis": {
             "endlinecolor": "#2a3f5f",
             "gridcolor": "white",
             "linecolor": "white",
             "minorgridcolor": "white",
             "startlinecolor": "#2a3f5f"
            },
            "baxis": {
             "endlinecolor": "#2a3f5f",
             "gridcolor": "white",
             "linecolor": "white",
             "minorgridcolor": "white",
             "startlinecolor": "#2a3f5f"
            },
            "type": "carpet"
           }
          ],
          "choropleth": [
           {
            "colorbar": {
             "outlinewidth": 0,
             "ticks": ""
            },
            "type": "choropleth"
           }
          ],
          "contour": [
           {
            "colorbar": {
             "outlinewidth": 0,
             "ticks": ""
            },
            "colorscale": [
             [
              0,
              "#0d0887"
             ],
             [
              0.1111111111111111,
              "#46039f"
             ],
             [
              0.2222222222222222,
              "#7201a8"
             ],
             [
              0.3333333333333333,
              "#9c179e"
             ],
             [
              0.4444444444444444,
              "#bd3786"
             ],
             [
              0.5555555555555556,
              "#d8576b"
             ],
             [
              0.6666666666666666,
              "#ed7953"
             ],
             [
              0.7777777777777778,
              "#fb9f3a"
             ],
             [
              0.8888888888888888,
              "#fdca26"
             ],
             [
              1,
              "#f0f921"
             ]
            ],
            "type": "contour"
           }
          ],
          "contourcarpet": [
           {
            "colorbar": {
             "outlinewidth": 0,
             "ticks": ""
            },
            "type": "contourcarpet"
           }
          ],
          "heatmap": [
           {
            "colorbar": {
             "outlinewidth": 0,
             "ticks": ""
            },
            "colorscale": [
             [
              0,
              "#0d0887"
             ],
             [
              0.1111111111111111,
              "#46039f"
             ],
             [
              0.2222222222222222,
              "#7201a8"
             ],
             [
              0.3333333333333333,
              "#9c179e"
             ],
             [
              0.4444444444444444,
              "#bd3786"
             ],
             [
              0.5555555555555556,
              "#d8576b"
             ],
             [
              0.6666666666666666,
              "#ed7953"
             ],
             [
              0.7777777777777778,
              "#fb9f3a"
             ],
             [
              0.8888888888888888,
              "#fdca26"
             ],
             [
              1,
              "#f0f921"
             ]
            ],
            "type": "heatmap"
           }
          ],
          "heatmapgl": [
           {
            "colorbar": {
             "outlinewidth": 0,
             "ticks": ""
            },
            "colorscale": [
             [
              0,
              "#0d0887"
             ],
             [
              0.1111111111111111,
              "#46039f"
             ],
             [
              0.2222222222222222,
              "#7201a8"
             ],
             [
              0.3333333333333333,
              "#9c179e"
             ],
             [
              0.4444444444444444,
              "#bd3786"
             ],
             [
              0.5555555555555556,
              "#d8576b"
             ],
             [
              0.6666666666666666,
              "#ed7953"
             ],
             [
              0.7777777777777778,
              "#fb9f3a"
             ],
             [
              0.8888888888888888,
              "#fdca26"
             ],
             [
              1,
              "#f0f921"
             ]
            ],
            "type": "heatmapgl"
           }
          ],
          "histogram": [
           {
            "marker": {
             "pattern": {
              "fillmode": "overlay",
              "size": 10,
              "solidity": 0.2
             }
            },
            "type": "histogram"
           }
          ],
          "histogram2d": [
           {
            "colorbar": {
             "outlinewidth": 0,
             "ticks": ""
            },
            "colorscale": [
             [
              0,
              "#0d0887"
             ],
             [
              0.1111111111111111,
              "#46039f"
             ],
             [
              0.2222222222222222,
              "#7201a8"
             ],
             [
              0.3333333333333333,
              "#9c179e"
             ],
             [
              0.4444444444444444,
              "#bd3786"
             ],
             [
              0.5555555555555556,
              "#d8576b"
             ],
             [
              0.6666666666666666,
              "#ed7953"
             ],
             [
              0.7777777777777778,
              "#fb9f3a"
             ],
             [
              0.8888888888888888,
              "#fdca26"
             ],
             [
              1,
              "#f0f921"
             ]
            ],
            "type": "histogram2d"
           }
          ],
          "histogram2dcontour": [
           {
            "colorbar": {
             "outlinewidth": 0,
             "ticks": ""
            },
            "colorscale": [
             [
              0,
              "#0d0887"
             ],
             [
              0.1111111111111111,
              "#46039f"
             ],
             [
              0.2222222222222222,
              "#7201a8"
             ],
             [
              0.3333333333333333,
              "#9c179e"
             ],
             [
              0.4444444444444444,
              "#bd3786"
             ],
             [
              0.5555555555555556,
              "#d8576b"
             ],
             [
              0.6666666666666666,
              "#ed7953"
             ],
             [
              0.7777777777777778,
              "#fb9f3a"
             ],
             [
              0.8888888888888888,
              "#fdca26"
             ],
             [
              1,
              "#f0f921"
             ]
            ],
            "type": "histogram2dcontour"
           }
          ],
          "mesh3d": [
           {
            "colorbar": {
             "outlinewidth": 0,
             "ticks": ""
            },
            "type": "mesh3d"
           }
          ],
          "parcoords": [
           {
            "line": {
             "colorbar": {
              "outlinewidth": 0,
              "ticks": ""
             }
            },
            "type": "parcoords"
           }
          ],
          "pie": [
           {
            "automargin": true,
            "type": "pie"
           }
          ],
          "scatter": [
           {
            "fillpattern": {
             "fillmode": "overlay",
             "size": 10,
             "solidity": 0.2
            },
            "type": "scatter"
           }
          ],
          "scatter3d": [
           {
            "line": {
             "colorbar": {
              "outlinewidth": 0,
              "ticks": ""
             }
            },
            "marker": {
             "colorbar": {
              "outlinewidth": 0,
              "ticks": ""
             }
            },
            "type": "scatter3d"
           }
          ],
          "scattercarpet": [
           {
            "marker": {
             "colorbar": {
              "outlinewidth": 0,
              "ticks": ""
             }
            },
            "type": "scattercarpet"
           }
          ],
          "scattergeo": [
           {
            "marker": {
             "colorbar": {
              "outlinewidth": 0,
              "ticks": ""
             }
            },
            "type": "scattergeo"
           }
          ],
          "scattergl": [
           {
            "marker": {
             "colorbar": {
              "outlinewidth": 0,
              "ticks": ""
             }
            },
            "type": "scattergl"
           }
          ],
          "scattermapbox": [
           {
            "marker": {
             "colorbar": {
              "outlinewidth": 0,
              "ticks": ""
             }
            },
            "type": "scattermapbox"
           }
          ],
          "scatterpolar": [
           {
            "marker": {
             "colorbar": {
              "outlinewidth": 0,
              "ticks": ""
             }
            },
            "type": "scatterpolar"
           }
          ],
          "scatterpolargl": [
           {
            "marker": {
             "colorbar": {
              "outlinewidth": 0,
              "ticks": ""
             }
            },
            "type": "scatterpolargl"
           }
          ],
          "scatterternary": [
           {
            "marker": {
             "colorbar": {
              "outlinewidth": 0,
              "ticks": ""
             }
            },
            "type": "scatterternary"
           }
          ],
          "surface": [
           {
            "colorbar": {
             "outlinewidth": 0,
             "ticks": ""
            },
            "colorscale": [
             [
              0,
              "#0d0887"
             ],
             [
              0.1111111111111111,
              "#46039f"
             ],
             [
              0.2222222222222222,
              "#7201a8"
             ],
             [
              0.3333333333333333,
              "#9c179e"
             ],
             [
              0.4444444444444444,
              "#bd3786"
             ],
             [
              0.5555555555555556,
              "#d8576b"
             ],
             [
              0.6666666666666666,
              "#ed7953"
             ],
             [
              0.7777777777777778,
              "#fb9f3a"
             ],
             [
              0.8888888888888888,
              "#fdca26"
             ],
             [
              1,
              "#f0f921"
             ]
            ],
            "type": "surface"
           }
          ],
          "table": [
           {
            "cells": {
             "fill": {
              "color": "#EBF0F8"
             },
             "line": {
              "color": "white"
             }
            },
            "header": {
             "fill": {
              "color": "#C8D4E3"
             },
             "line": {
              "color": "white"
             }
            },
            "type": "table"
           }
          ]
         },
         "layout": {
          "annotationdefaults": {
           "arrowcolor": "#2a3f5f",
           "arrowhead": 0,
           "arrowwidth": 1
          },
          "autotypenumbers": "strict",
          "coloraxis": {
           "colorbar": {
            "outlinewidth": 0,
            "ticks": ""
           }
          },
          "colorscale": {
           "diverging": [
            [
             0,
             "#8e0152"
            ],
            [
             0.1,
             "#c51b7d"
            ],
            [
             0.2,
             "#de77ae"
            ],
            [
             0.3,
             "#f1b6da"
            ],
            [
             0.4,
             "#fde0ef"
            ],
            [
             0.5,
             "#f7f7f7"
            ],
            [
             0.6,
             "#e6f5d0"
            ],
            [
             0.7,
             "#b8e186"
            ],
            [
             0.8,
             "#7fbc41"
            ],
            [
             0.9,
             "#4d9221"
            ],
            [
             1,
             "#276419"
            ]
           ],
           "sequential": [
            [
             0,
             "#0d0887"
            ],
            [
             0.1111111111111111,
             "#46039f"
            ],
            [
             0.2222222222222222,
             "#7201a8"
            ],
            [
             0.3333333333333333,
             "#9c179e"
            ],
            [
             0.4444444444444444,
             "#bd3786"
            ],
            [
             0.5555555555555556,
             "#d8576b"
            ],
            [
             0.6666666666666666,
             "#ed7953"
            ],
            [
             0.7777777777777778,
             "#fb9f3a"
            ],
            [
             0.8888888888888888,
             "#fdca26"
            ],
            [
             1,
             "#f0f921"
            ]
           ],
           "sequentialminus": [
            [
             0,
             "#0d0887"
            ],
            [
             0.1111111111111111,
             "#46039f"
            ],
            [
             0.2222222222222222,
             "#7201a8"
            ],
            [
             0.3333333333333333,
             "#9c179e"
            ],
            [
             0.4444444444444444,
             "#bd3786"
            ],
            [
             0.5555555555555556,
             "#d8576b"
            ],
            [
             0.6666666666666666,
             "#ed7953"
            ],
            [
             0.7777777777777778,
             "#fb9f3a"
            ],
            [
             0.8888888888888888,
             "#fdca26"
            ],
            [
             1,
             "#f0f921"
            ]
           ]
          },
          "colorway": [
           "#636efa",
           "#EF553B",
           "#00cc96",
           "#ab63fa",
           "#FFA15A",
           "#19d3f3",
           "#FF6692",
           "#B6E880",
           "#FF97FF",
           "#FECB52"
          ],
          "font": {
           "color": "#2a3f5f"
          },
          "geo": {
           "bgcolor": "white",
           "lakecolor": "white",
           "landcolor": "#E5ECF6",
           "showlakes": true,
           "showland": true,
           "subunitcolor": "white"
          },
          "hoverlabel": {
           "align": "left"
          },
          "hovermode": "closest",
          "mapbox": {
           "style": "light"
          },
          "paper_bgcolor": "white",
          "plot_bgcolor": "#E5ECF6",
          "polar": {
           "angularaxis": {
            "gridcolor": "white",
            "linecolor": "white",
            "ticks": ""
           },
           "bgcolor": "#E5ECF6",
           "radialaxis": {
            "gridcolor": "white",
            "linecolor": "white",
            "ticks": ""
           }
          },
          "scene": {
           "xaxis": {
            "backgroundcolor": "#E5ECF6",
            "gridcolor": "white",
            "gridwidth": 2,
            "linecolor": "white",
            "showbackground": true,
            "ticks": "",
            "zerolinecolor": "white"
           },
           "yaxis": {
            "backgroundcolor": "#E5ECF6",
            "gridcolor": "white",
            "gridwidth": 2,
            "linecolor": "white",
            "showbackground": true,
            "ticks": "",
            "zerolinecolor": "white"
           },
           "zaxis": {
            "backgroundcolor": "#E5ECF6",
            "gridcolor": "white",
            "gridwidth": 2,
            "linecolor": "white",
            "showbackground": true,
            "ticks": "",
            "zerolinecolor": "white"
           }
          },
          "shapedefaults": {
           "line": {
            "color": "#2a3f5f"
           }
          },
          "ternary": {
           "aaxis": {
            "gridcolor": "white",
            "linecolor": "white",
            "ticks": ""
           },
           "baxis": {
            "gridcolor": "white",
            "linecolor": "white",
            "ticks": ""
           },
           "bgcolor": "#E5ECF6",
           "caxis": {
            "gridcolor": "white",
            "linecolor": "white",
            "ticks": ""
           }
          },
          "title": {
           "x": 0.05
          },
          "xaxis": {
           "automargin": true,
           "gridcolor": "white",
           "linecolor": "white",
           "ticks": "",
           "title": {
            "standoff": 15
           },
           "zerolinecolor": "white",
           "zerolinewidth": 2
          },
          "yaxis": {
           "automargin": true,
           "gridcolor": "white",
           "linecolor": "white",
           "ticks": "",
           "title": {
            "standoff": 15
           },
           "zerolinecolor": "white",
           "zerolinewidth": 2
          }
         }
        },
        "title": {
         "text": "Based on Ground Truth Presence",
         "x": 0.5
        },
        "width": 1000,
        "xaxis": {
         "anchor": "y",
         "domain": [
          0,
          1
         ]
        },
        "yaxis": {
         "anchor": "x",
         "domain": [
          0,
          1
         ],
         "range": [
          0,
          1
         ],
         "title": {
          "text": "Presence Probability"
         }
        }
       }
      }
     },
     "metadata": {},
     "output_type": "display_data"
    },
    {
     "data": {
      "application/vnd.plotly.v1+json": {
       "config": {
        "plotlyServerURL": "https://plot.ly"
       },
       "data": [
        {
         "name": "profile",
         "type": "bar",
         "x": [
          "2022-09-05T00:30:00+02:00",
          "2022-09-05T01:00:00+02:00",
          "2022-09-05T01:30:00+02:00",
          "2022-09-05T02:00:00+02:00",
          "2022-09-05T02:30:00+02:00",
          "2022-09-05T03:00:00+02:00",
          "2022-09-05T03:30:00+02:00",
          "2022-09-05T04:00:00+02:00",
          "2022-09-05T04:30:00+02:00",
          "2022-09-05T05:00:00+02:00",
          "2022-09-05T05:30:00+02:00",
          "2022-09-05T06:00:00+02:00",
          "2022-09-05T06:30:00+02:00",
          "2022-09-05T07:00:00+02:00",
          "2022-09-05T07:30:00+02:00",
          "2022-09-05T08:00:00+02:00",
          "2022-09-05T08:30:00+02:00",
          "2022-09-05T09:00:00+02:00",
          "2022-09-05T09:30:00+02:00",
          "2022-09-05T10:00:00+02:00",
          "2022-09-05T10:30:00+02:00",
          "2022-09-05T11:00:00+02:00",
          "2022-09-05T11:30:00+02:00",
          "2022-09-05T12:00:00+02:00",
          "2022-09-05T12:30:00+02:00",
          "2022-09-05T13:00:00+02:00",
          "2022-09-05T13:30:00+02:00",
          "2022-09-05T14:00:00+02:00",
          "2022-09-05T14:30:00+02:00",
          "2022-09-05T15:00:00+02:00",
          "2022-09-05T15:30:00+02:00",
          "2022-09-05T16:00:00+02:00",
          "2022-09-05T16:30:00+02:00",
          "2022-09-05T17:00:00+02:00",
          "2022-09-05T17:30:00+02:00",
          "2022-09-05T18:00:00+02:00",
          "2022-09-05T18:30:00+02:00",
          "2022-09-05T19:00:00+02:00",
          "2022-09-05T19:30:00+02:00",
          "2022-09-05T20:00:00+02:00",
          "2022-09-05T20:30:00+02:00",
          "2022-09-05T21:00:00+02:00",
          "2022-09-05T21:30:00+02:00",
          "2022-09-05T22:00:00+02:00",
          "2022-09-05T22:30:00+02:00",
          "2022-09-05T23:00:00+02:00",
          "2022-09-05T23:30:00+02:00",
          "2022-09-06T00:00:00+02:00",
          "2022-09-06T00:30:00+02:00",
          "2022-09-06T01:00:00+02:00",
          "2022-09-06T01:30:00+02:00",
          "2022-09-06T02:00:00+02:00",
          "2022-09-06T02:30:00+02:00",
          "2022-09-06T03:00:00+02:00",
          "2022-09-06T03:30:00+02:00",
          "2022-09-06T04:00:00+02:00",
          "2022-09-06T04:30:00+02:00",
          "2022-09-06T05:00:00+02:00",
          "2022-09-06T05:30:00+02:00",
          "2022-09-06T06:00:00+02:00",
          "2022-09-06T06:30:00+02:00",
          "2022-09-06T07:00:00+02:00",
          "2022-09-06T07:30:00+02:00",
          "2022-09-06T08:00:00+02:00",
          "2022-09-06T08:30:00+02:00",
          "2022-09-06T09:00:00+02:00",
          "2022-09-06T09:30:00+02:00",
          "2022-09-06T10:00:00+02:00",
          "2022-09-06T10:30:00+02:00",
          "2022-09-06T11:00:00+02:00",
          "2022-09-06T11:30:00+02:00",
          "2022-09-06T12:00:00+02:00",
          "2022-09-06T12:30:00+02:00",
          "2022-09-06T13:00:00+02:00",
          "2022-09-06T13:30:00+02:00",
          "2022-09-06T14:00:00+02:00",
          "2022-09-06T14:30:00+02:00",
          "2022-09-06T15:00:00+02:00",
          "2022-09-06T15:30:00+02:00",
          "2022-09-06T16:00:00+02:00",
          "2022-09-06T16:30:00+02:00",
          "2022-09-06T17:00:00+02:00",
          "2022-09-06T17:30:00+02:00",
          "2022-09-06T18:00:00+02:00",
          "2022-09-06T18:30:00+02:00",
          "2022-09-06T19:00:00+02:00",
          "2022-09-06T19:30:00+02:00",
          "2022-09-06T20:00:00+02:00",
          "2022-09-06T20:30:00+02:00",
          "2022-09-06T21:00:00+02:00",
          "2022-09-06T21:30:00+02:00",
          "2022-09-06T22:00:00+02:00",
          "2022-09-06T22:30:00+02:00",
          "2022-09-06T23:00:00+02:00",
          "2022-09-06T23:30:00+02:00",
          "2022-09-07T00:00:00+02:00",
          "2022-09-07T00:30:00+02:00",
          "2022-09-07T01:00:00+02:00",
          "2022-09-07T01:30:00+02:00",
          "2022-09-07T02:00:00+02:00",
          "2022-09-07T02:30:00+02:00",
          "2022-09-07T03:00:00+02:00",
          "2022-09-07T03:30:00+02:00",
          "2022-09-07T04:00:00+02:00",
          "2022-09-07T04:30:00+02:00",
          "2022-09-07T05:00:00+02:00",
          "2022-09-07T05:30:00+02:00",
          "2022-09-07T06:00:00+02:00",
          "2022-09-07T06:30:00+02:00",
          "2022-09-07T07:00:00+02:00",
          "2022-09-07T07:30:00+02:00",
          "2022-09-07T08:00:00+02:00",
          "2022-09-07T08:30:00+02:00",
          "2022-09-07T09:00:00+02:00",
          "2022-09-07T09:30:00+02:00",
          "2022-09-07T10:00:00+02:00",
          "2022-09-07T10:30:00+02:00",
          "2022-09-07T11:00:00+02:00",
          "2022-09-07T11:30:00+02:00",
          "2022-09-07T12:00:00+02:00",
          "2022-09-07T12:30:00+02:00",
          "2022-09-07T13:00:00+02:00",
          "2022-09-07T13:30:00+02:00",
          "2022-09-07T14:00:00+02:00",
          "2022-09-07T14:30:00+02:00",
          "2022-09-07T15:00:00+02:00",
          "2022-09-07T15:30:00+02:00",
          "2022-09-07T16:00:00+02:00",
          "2022-09-07T16:30:00+02:00",
          "2022-09-07T17:00:00+02:00",
          "2022-09-07T17:30:00+02:00",
          "2022-09-07T18:00:00+02:00",
          "2022-09-07T18:30:00+02:00",
          "2022-09-07T19:00:00+02:00",
          "2022-09-07T19:30:00+02:00",
          "2022-09-07T20:00:00+02:00",
          "2022-09-07T20:30:00+02:00",
          "2022-09-07T21:00:00+02:00",
          "2022-09-07T21:30:00+02:00",
          "2022-09-07T22:00:00+02:00",
          "2022-09-07T22:30:00+02:00",
          "2022-09-07T23:00:00+02:00",
          "2022-09-07T23:30:00+02:00",
          "2022-09-08T00:00:00+02:00",
          "2022-09-08T00:30:00+02:00",
          "2022-09-08T01:00:00+02:00",
          "2022-09-08T01:30:00+02:00",
          "2022-09-08T02:00:00+02:00",
          "2022-09-08T02:30:00+02:00",
          "2022-09-08T03:00:00+02:00",
          "2022-09-08T03:30:00+02:00",
          "2022-09-08T04:00:00+02:00",
          "2022-09-08T04:30:00+02:00",
          "2022-09-08T05:00:00+02:00",
          "2022-09-08T05:30:00+02:00",
          "2022-09-08T06:00:00+02:00",
          "2022-09-08T06:30:00+02:00",
          "2022-09-08T07:00:00+02:00",
          "2022-09-08T07:30:00+02:00",
          "2022-09-08T08:00:00+02:00",
          "2022-09-08T08:30:00+02:00",
          "2022-09-08T09:00:00+02:00",
          "2022-09-08T09:30:00+02:00",
          "2022-09-08T10:00:00+02:00",
          "2022-09-08T10:30:00+02:00",
          "2022-09-08T11:00:00+02:00",
          "2022-09-08T11:30:00+02:00",
          "2022-09-08T12:00:00+02:00",
          "2022-09-08T12:30:00+02:00",
          "2022-09-08T13:00:00+02:00",
          "2022-09-08T13:30:00+02:00",
          "2022-09-08T14:00:00+02:00",
          "2022-09-08T14:30:00+02:00",
          "2022-09-08T15:00:00+02:00",
          "2022-09-08T15:30:00+02:00",
          "2022-09-08T16:00:00+02:00",
          "2022-09-08T16:30:00+02:00",
          "2022-09-08T17:00:00+02:00",
          "2022-09-08T17:30:00+02:00",
          "2022-09-08T18:00:00+02:00",
          "2022-09-08T18:30:00+02:00",
          "2022-09-08T19:00:00+02:00",
          "2022-09-08T19:30:00+02:00",
          "2022-09-08T20:00:00+02:00",
          "2022-09-08T20:30:00+02:00",
          "2022-09-08T21:00:00+02:00",
          "2022-09-08T21:30:00+02:00",
          "2022-09-08T22:00:00+02:00",
          "2022-09-08T22:30:00+02:00",
          "2022-09-08T23:00:00+02:00",
          "2022-09-08T23:30:00+02:00",
          "2022-09-09T00:00:00+02:00",
          "2022-09-09T00:30:00+02:00",
          "2022-09-09T01:00:00+02:00",
          "2022-09-09T01:30:00+02:00",
          "2022-09-09T02:00:00+02:00",
          "2022-09-09T02:30:00+02:00",
          "2022-09-09T03:00:00+02:00",
          "2022-09-09T03:30:00+02:00",
          "2022-09-09T04:00:00+02:00",
          "2022-09-09T04:30:00+02:00",
          "2022-09-09T05:00:00+02:00",
          "2022-09-09T05:30:00+02:00",
          "2022-09-09T06:00:00+02:00",
          "2022-09-09T06:30:00+02:00",
          "2022-09-09T07:00:00+02:00",
          "2022-09-09T07:30:00+02:00",
          "2022-09-09T08:00:00+02:00",
          "2022-09-09T08:30:00+02:00",
          "2022-09-09T09:00:00+02:00",
          "2022-09-09T09:30:00+02:00",
          "2022-09-09T10:00:00+02:00",
          "2022-09-09T10:30:00+02:00",
          "2022-09-09T11:00:00+02:00",
          "2022-09-09T11:30:00+02:00",
          "2022-09-09T12:00:00+02:00",
          "2022-09-09T12:30:00+02:00",
          "2022-09-09T13:00:00+02:00",
          "2022-09-09T13:30:00+02:00",
          "2022-09-09T14:00:00+02:00",
          "2022-09-09T14:30:00+02:00",
          "2022-09-09T15:00:00+02:00",
          "2022-09-09T15:30:00+02:00",
          "2022-09-09T16:00:00+02:00",
          "2022-09-09T16:30:00+02:00",
          "2022-09-09T17:00:00+02:00",
          "2022-09-09T17:30:00+02:00",
          "2022-09-09T18:00:00+02:00",
          "2022-09-09T18:30:00+02:00",
          "2022-09-09T19:00:00+02:00",
          "2022-09-09T19:30:00+02:00",
          "2022-09-09T20:00:00+02:00",
          "2022-09-09T20:30:00+02:00",
          "2022-09-09T21:00:00+02:00",
          "2022-09-09T21:30:00+02:00",
          "2022-09-09T22:00:00+02:00",
          "2022-09-09T22:30:00+02:00",
          "2022-09-09T23:00:00+02:00",
          "2022-09-09T23:30:00+02:00",
          "2022-09-10T00:00:00+02:00",
          "2022-09-10T00:30:00+02:00",
          "2022-09-10T01:00:00+02:00",
          "2022-09-10T01:30:00+02:00",
          "2022-09-10T02:00:00+02:00",
          "2022-09-10T02:30:00+02:00",
          "2022-09-10T03:00:00+02:00",
          "2022-09-10T03:30:00+02:00",
          "2022-09-10T04:00:00+02:00",
          "2022-09-10T04:30:00+02:00",
          "2022-09-10T05:00:00+02:00",
          "2022-09-10T05:30:00+02:00",
          "2022-09-10T06:00:00+02:00",
          "2022-09-10T06:30:00+02:00",
          "2022-09-10T07:00:00+02:00",
          "2022-09-10T07:30:00+02:00",
          "2022-09-10T08:00:00+02:00",
          "2022-09-10T08:30:00+02:00",
          "2022-09-10T09:00:00+02:00",
          "2022-09-10T09:30:00+02:00",
          "2022-09-10T10:00:00+02:00",
          "2022-09-10T10:30:00+02:00",
          "2022-09-10T11:00:00+02:00",
          "2022-09-10T11:30:00+02:00",
          "2022-09-10T12:00:00+02:00",
          "2022-09-10T12:30:00+02:00",
          "2022-09-10T13:00:00+02:00",
          "2022-09-10T13:30:00+02:00",
          "2022-09-10T14:00:00+02:00",
          "2022-09-10T14:30:00+02:00",
          "2022-09-10T15:00:00+02:00",
          "2022-09-10T15:30:00+02:00",
          "2022-09-10T16:00:00+02:00",
          "2022-09-10T16:30:00+02:00",
          "2022-09-10T17:00:00+02:00",
          "2022-09-10T17:30:00+02:00",
          "2022-09-10T18:00:00+02:00",
          "2022-09-10T18:30:00+02:00",
          "2022-09-10T19:00:00+02:00",
          "2022-09-10T19:30:00+02:00",
          "2022-09-10T20:00:00+02:00",
          "2022-09-10T20:30:00+02:00",
          "2022-09-10T21:00:00+02:00",
          "2022-09-10T21:30:00+02:00",
          "2022-09-10T22:00:00+02:00",
          "2022-09-10T22:30:00+02:00",
          "2022-09-10T23:00:00+02:00",
          "2022-09-10T23:30:00+02:00",
          "2022-09-11T00:00:00+02:00",
          "2022-09-11T00:30:00+02:00",
          "2022-09-11T01:00:00+02:00",
          "2022-09-11T01:30:00+02:00",
          "2022-09-11T02:00:00+02:00",
          "2022-09-11T02:30:00+02:00",
          "2022-09-11T03:00:00+02:00",
          "2022-09-11T03:30:00+02:00",
          "2022-09-11T04:00:00+02:00",
          "2022-09-11T04:30:00+02:00",
          "2022-09-11T05:00:00+02:00",
          "2022-09-11T05:30:00+02:00",
          "2022-09-11T06:00:00+02:00",
          "2022-09-11T06:30:00+02:00",
          "2022-09-11T07:00:00+02:00",
          "2022-09-11T07:30:00+02:00",
          "2022-09-11T08:00:00+02:00",
          "2022-09-11T08:30:00+02:00",
          "2022-09-11T09:00:00+02:00",
          "2022-09-11T09:30:00+02:00",
          "2022-09-11T10:00:00+02:00",
          "2022-09-11T10:30:00+02:00",
          "2022-09-11T11:00:00+02:00",
          "2022-09-11T11:30:00+02:00",
          "2022-09-11T12:00:00+02:00",
          "2022-09-11T12:30:00+02:00",
          "2022-09-11T13:00:00+02:00",
          "2022-09-11T13:30:00+02:00",
          "2022-09-11T14:00:00+02:00",
          "2022-09-11T14:30:00+02:00",
          "2022-09-11T15:00:00+02:00",
          "2022-09-11T15:30:00+02:00",
          "2022-09-11T16:00:00+02:00",
          "2022-09-11T16:30:00+02:00",
          "2022-09-11T17:00:00+02:00",
          "2022-09-11T17:30:00+02:00",
          "2022-09-11T18:00:00+02:00",
          "2022-09-11T18:30:00+02:00",
          "2022-09-11T19:00:00+02:00",
          "2022-09-11T19:30:00+02:00",
          "2022-09-11T20:00:00+02:00",
          "2022-09-11T20:30:00+02:00",
          "2022-09-11T21:00:00+02:00",
          "2022-09-11T21:30:00+02:00",
          "2022-09-11T22:00:00+02:00",
          "2022-09-11T22:30:00+02:00",
          "2022-09-11T23:00:00+02:00",
          "2022-09-11T23:30:00+02:00"
         ],
         "xaxis": "x",
         "y": [
          0,
          0,
          0,
          0,
          0,
          0.020833333333333332,
          0.0625,
          0.020833333333333332,
          0.041666666666666664,
          0.0625,
          0.041666666666666664,
          0.020833333333333332,
          0.08333333333333333,
          0.0625,
          0.08333333333333333,
          0.020833333333333332,
          0.0625,
          0.125,
          0.4583333333333333,
          0.5,
          0.6041666666666666,
          0.6041666666666666,
          0.5416666666666666,
          0.4791666666666667,
          0.2916666666666667,
          0.1875,
          0.4583333333333333,
          0.6875,
          0.7291666666666666,
          0.7083333333333334,
          0.6666666666666666,
          0.7083333333333334,
          0.6041666666666666,
          0.6458333333333334,
          0.5833333333333334,
          0.5416666666666666,
          0.25,
          0.16666666666666666,
          0.020833333333333332,
          0,
          0,
          0,
          0,
          0,
          0,
          0,
          0,
          0,
          0,
          0,
          0,
          0,
          0,
          0,
          0,
          0,
          0,
          0,
          0,
          0,
          0,
          0,
          0.08333333333333333,
          0.0625,
          0.125,
          0.3125,
          0.5416666666666666,
          0.625,
          0.8333333333333334,
          0.8333333333333334,
          0.7916666666666666,
          0.5833333333333334,
          0.4166666666666667,
          0.4375,
          0.6666666666666666,
          0.7916666666666666,
          0.8125,
          0.75,
          0.7916666666666666,
          0.7916666666666666,
          0.7083333333333334,
          0.7708333333333334,
          0.75,
          0.5208333333333334,
          0.375,
          0.4166666666666667,
          0.16666666666666666,
          0.14583333333333334,
          0.08333333333333333,
          0.020833333333333332,
          0,
          0,
          0,
          0,
          0,
          0,
          0.020833333333333332,
          0.041666666666666664,
          0.041666666666666664,
          0,
          0,
          0,
          0,
          0,
          0,
          0,
          0,
          0,
          0,
          0,
          0,
          0.0625,
          0.10416666666666667,
          0.14583333333333334,
          0.22916666666666666,
          0.4166666666666667,
          0.5625,
          0.5833333333333334,
          0.5,
          0.4791666666666667,
          0.2916666666666667,
          0.22916666666666666,
          0.5,
          0.5833333333333334,
          0.5833333333333334,
          0.6666666666666666,
          0.5833333333333334,
          0.625,
          0.4583333333333333,
          0.5625,
          0.6458333333333334,
          0.375,
          0.10416666666666667,
          0.0625,
          0.0625,
          0.0625,
          0.0625,
          0.0625,
          0.0625,
          0.0625,
          0.0625,
          0.0625,
          0.0625,
          0.0625,
          0.0625,
          0.020833333333333332,
          0.020833333333333332,
          0.0625,
          0.041666666666666664,
          0,
          0,
          0,
          0,
          0,
          0,
          0,
          0,
          0.020833333333333332,
          0.020833333333333332,
          0.020833333333333332,
          0.020833333333333332,
          0.14583333333333334,
          0.1875,
          0.2916666666666667,
          0.3541666666666667,
          0.375,
          0.3125,
          0.2916666666666667,
          0.16666666666666666,
          0.1875,
          0.22916666666666666,
          0.4375,
          0.4375,
          0.375,
          0.3541666666666667,
          0.2708333333333333,
          0.22916666666666666,
          0.22916666666666666,
          0.1875,
          0.25,
          0.20833333333333334,
          0.0625,
          0.0625,
          0.0625,
          0.0625,
          0.0625,
          0.0625,
          0.020833333333333332,
          0.041666666666666664,
          0.0625,
          0.0625,
          0.0625,
          0.0625,
          0.0625,
          0.0625,
          0.0625,
          0.0625,
          0.041666666666666664,
          0,
          0,
          0,
          0,
          0,
          0,
          0,
          0,
          0,
          0,
          0,
          0.14583333333333334,
          0.25,
          0.3125,
          0.3958333333333333,
          0.4166666666666667,
          0.3333333333333333,
          0.2708333333333333,
          0.2916666666666667,
          0.08333333333333333,
          0.3333333333333333,
          0.4791666666666667,
          0.5208333333333334,
          0.5416666666666666,
          0.5833333333333334,
          0.4583333333333333,
          0.4166666666666667,
          0.375,
          0.5,
          0.4375,
          0.2916666666666667,
          0.22916666666666666,
          0.125,
          0,
          0,
          0,
          0,
          0,
          0,
          0,
          0,
          0,
          0,
          0,
          0,
          0,
          0,
          0,
          0,
          0,
          0,
          0,
          0,
          0,
          0,
          0,
          0,
          0,
          0,
          0,
          0,
          0,
          0,
          0,
          0,
          0,
          0,
          0,
          0,
          0,
          0,
          0,
          0,
          0,
          0,
          0,
          0,
          0,
          0,
          0,
          0,
          0,
          0,
          0,
          0,
          0,
          0,
          0,
          0,
          0,
          0,
          0,
          0,
          0,
          0,
          0,
          0,
          0,
          0,
          0,
          0.041666666666666664,
          0.041666666666666664,
          0.020833333333333332,
          0,
          0,
          0.041666666666666664,
          0.041666666666666664,
          0,
          0,
          0,
          0,
          0,
          0,
          0,
          0,
          0,
          0,
          0,
          0,
          0,
          0,
          0,
          0,
          0,
          0,
          0,
          0,
          0,
          0,
          0,
          0,
          0,
          0,
          0,
          0,
          0,
          0
         ],
         "yaxis": "y"
        }
       ],
       "layout": {
        "height": 300,
        "margin": {
         "b": 0,
         "l": 0,
         "r": 0,
         "t": 50
        },
        "template": {
         "data": {
          "bar": [
           {
            "error_x": {
             "color": "#2a3f5f"
            },
            "error_y": {
             "color": "#2a3f5f"
            },
            "marker": {
             "line": {
              "color": "#E5ECF6",
              "width": 0.5
             },
             "pattern": {
              "fillmode": "overlay",
              "size": 10,
              "solidity": 0.2
             }
            },
            "type": "bar"
           }
          ],
          "barpolar": [
           {
            "marker": {
             "line": {
              "color": "#E5ECF6",
              "width": 0.5
             },
             "pattern": {
              "fillmode": "overlay",
              "size": 10,
              "solidity": 0.2
             }
            },
            "type": "barpolar"
           }
          ],
          "carpet": [
           {
            "aaxis": {
             "endlinecolor": "#2a3f5f",
             "gridcolor": "white",
             "linecolor": "white",
             "minorgridcolor": "white",
             "startlinecolor": "#2a3f5f"
            },
            "baxis": {
             "endlinecolor": "#2a3f5f",
             "gridcolor": "white",
             "linecolor": "white",
             "minorgridcolor": "white",
             "startlinecolor": "#2a3f5f"
            },
            "type": "carpet"
           }
          ],
          "choropleth": [
           {
            "colorbar": {
             "outlinewidth": 0,
             "ticks": ""
            },
            "type": "choropleth"
           }
          ],
          "contour": [
           {
            "colorbar": {
             "outlinewidth": 0,
             "ticks": ""
            },
            "colorscale": [
             [
              0,
              "#0d0887"
             ],
             [
              0.1111111111111111,
              "#46039f"
             ],
             [
              0.2222222222222222,
              "#7201a8"
             ],
             [
              0.3333333333333333,
              "#9c179e"
             ],
             [
              0.4444444444444444,
              "#bd3786"
             ],
             [
              0.5555555555555556,
              "#d8576b"
             ],
             [
              0.6666666666666666,
              "#ed7953"
             ],
             [
              0.7777777777777778,
              "#fb9f3a"
             ],
             [
              0.8888888888888888,
              "#fdca26"
             ],
             [
              1,
              "#f0f921"
             ]
            ],
            "type": "contour"
           }
          ],
          "contourcarpet": [
           {
            "colorbar": {
             "outlinewidth": 0,
             "ticks": ""
            },
            "type": "contourcarpet"
           }
          ],
          "heatmap": [
           {
            "colorbar": {
             "outlinewidth": 0,
             "ticks": ""
            },
            "colorscale": [
             [
              0,
              "#0d0887"
             ],
             [
              0.1111111111111111,
              "#46039f"
             ],
             [
              0.2222222222222222,
              "#7201a8"
             ],
             [
              0.3333333333333333,
              "#9c179e"
             ],
             [
              0.4444444444444444,
              "#bd3786"
             ],
             [
              0.5555555555555556,
              "#d8576b"
             ],
             [
              0.6666666666666666,
              "#ed7953"
             ],
             [
              0.7777777777777778,
              "#fb9f3a"
             ],
             [
              0.8888888888888888,
              "#fdca26"
             ],
             [
              1,
              "#f0f921"
             ]
            ],
            "type": "heatmap"
           }
          ],
          "heatmapgl": [
           {
            "colorbar": {
             "outlinewidth": 0,
             "ticks": ""
            },
            "colorscale": [
             [
              0,
              "#0d0887"
             ],
             [
              0.1111111111111111,
              "#46039f"
             ],
             [
              0.2222222222222222,
              "#7201a8"
             ],
             [
              0.3333333333333333,
              "#9c179e"
             ],
             [
              0.4444444444444444,
              "#bd3786"
             ],
             [
              0.5555555555555556,
              "#d8576b"
             ],
             [
              0.6666666666666666,
              "#ed7953"
             ],
             [
              0.7777777777777778,
              "#fb9f3a"
             ],
             [
              0.8888888888888888,
              "#fdca26"
             ],
             [
              1,
              "#f0f921"
             ]
            ],
            "type": "heatmapgl"
           }
          ],
          "histogram": [
           {
            "marker": {
             "pattern": {
              "fillmode": "overlay",
              "size": 10,
              "solidity": 0.2
             }
            },
            "type": "histogram"
           }
          ],
          "histogram2d": [
           {
            "colorbar": {
             "outlinewidth": 0,
             "ticks": ""
            },
            "colorscale": [
             [
              0,
              "#0d0887"
             ],
             [
              0.1111111111111111,
              "#46039f"
             ],
             [
              0.2222222222222222,
              "#7201a8"
             ],
             [
              0.3333333333333333,
              "#9c179e"
             ],
             [
              0.4444444444444444,
              "#bd3786"
             ],
             [
              0.5555555555555556,
              "#d8576b"
             ],
             [
              0.6666666666666666,
              "#ed7953"
             ],
             [
              0.7777777777777778,
              "#fb9f3a"
             ],
             [
              0.8888888888888888,
              "#fdca26"
             ],
             [
              1,
              "#f0f921"
             ]
            ],
            "type": "histogram2d"
           }
          ],
          "histogram2dcontour": [
           {
            "colorbar": {
             "outlinewidth": 0,
             "ticks": ""
            },
            "colorscale": [
             [
              0,
              "#0d0887"
             ],
             [
              0.1111111111111111,
              "#46039f"
             ],
             [
              0.2222222222222222,
              "#7201a8"
             ],
             [
              0.3333333333333333,
              "#9c179e"
             ],
             [
              0.4444444444444444,
              "#bd3786"
             ],
             [
              0.5555555555555556,
              "#d8576b"
             ],
             [
              0.6666666666666666,
              "#ed7953"
             ],
             [
              0.7777777777777778,
              "#fb9f3a"
             ],
             [
              0.8888888888888888,
              "#fdca26"
             ],
             [
              1,
              "#f0f921"
             ]
            ],
            "type": "histogram2dcontour"
           }
          ],
          "mesh3d": [
           {
            "colorbar": {
             "outlinewidth": 0,
             "ticks": ""
            },
            "type": "mesh3d"
           }
          ],
          "parcoords": [
           {
            "line": {
             "colorbar": {
              "outlinewidth": 0,
              "ticks": ""
             }
            },
            "type": "parcoords"
           }
          ],
          "pie": [
           {
            "automargin": true,
            "type": "pie"
           }
          ],
          "scatter": [
           {
            "fillpattern": {
             "fillmode": "overlay",
             "size": 10,
             "solidity": 0.2
            },
            "type": "scatter"
           }
          ],
          "scatter3d": [
           {
            "line": {
             "colorbar": {
              "outlinewidth": 0,
              "ticks": ""
             }
            },
            "marker": {
             "colorbar": {
              "outlinewidth": 0,
              "ticks": ""
             }
            },
            "type": "scatter3d"
           }
          ],
          "scattercarpet": [
           {
            "marker": {
             "colorbar": {
              "outlinewidth": 0,
              "ticks": ""
             }
            },
            "type": "scattercarpet"
           }
          ],
          "scattergeo": [
           {
            "marker": {
             "colorbar": {
              "outlinewidth": 0,
              "ticks": ""
             }
            },
            "type": "scattergeo"
           }
          ],
          "scattergl": [
           {
            "marker": {
             "colorbar": {
              "outlinewidth": 0,
              "ticks": ""
             }
            },
            "type": "scattergl"
           }
          ],
          "scattermapbox": [
           {
            "marker": {
             "colorbar": {
              "outlinewidth": 0,
              "ticks": ""
             }
            },
            "type": "scattermapbox"
           }
          ],
          "scatterpolar": [
           {
            "marker": {
             "colorbar": {
              "outlinewidth": 0,
              "ticks": ""
             }
            },
            "type": "scatterpolar"
           }
          ],
          "scatterpolargl": [
           {
            "marker": {
             "colorbar": {
              "outlinewidth": 0,
              "ticks": ""
             }
            },
            "type": "scatterpolargl"
           }
          ],
          "scatterternary": [
           {
            "marker": {
             "colorbar": {
              "outlinewidth": 0,
              "ticks": ""
             }
            },
            "type": "scatterternary"
           }
          ],
          "surface": [
           {
            "colorbar": {
             "outlinewidth": 0,
             "ticks": ""
            },
            "colorscale": [
             [
              0,
              "#0d0887"
             ],
             [
              0.1111111111111111,
              "#46039f"
             ],
             [
              0.2222222222222222,
              "#7201a8"
             ],
             [
              0.3333333333333333,
              "#9c179e"
             ],
             [
              0.4444444444444444,
              "#bd3786"
             ],
             [
              0.5555555555555556,
              "#d8576b"
             ],
             [
              0.6666666666666666,
              "#ed7953"
             ],
             [
              0.7777777777777778,
              "#fb9f3a"
             ],
             [
              0.8888888888888888,
              "#fdca26"
             ],
             [
              1,
              "#f0f921"
             ]
            ],
            "type": "surface"
           }
          ],
          "table": [
           {
            "cells": {
             "fill": {
              "color": "#EBF0F8"
             },
             "line": {
              "color": "white"
             }
            },
            "header": {
             "fill": {
              "color": "#C8D4E3"
             },
             "line": {
              "color": "white"
             }
            },
            "type": "table"
           }
          ]
         },
         "layout": {
          "annotationdefaults": {
           "arrowcolor": "#2a3f5f",
           "arrowhead": 0,
           "arrowwidth": 1
          },
          "autotypenumbers": "strict",
          "coloraxis": {
           "colorbar": {
            "outlinewidth": 0,
            "ticks": ""
           }
          },
          "colorscale": {
           "diverging": [
            [
             0,
             "#8e0152"
            ],
            [
             0.1,
             "#c51b7d"
            ],
            [
             0.2,
             "#de77ae"
            ],
            [
             0.3,
             "#f1b6da"
            ],
            [
             0.4,
             "#fde0ef"
            ],
            [
             0.5,
             "#f7f7f7"
            ],
            [
             0.6,
             "#e6f5d0"
            ],
            [
             0.7,
             "#b8e186"
            ],
            [
             0.8,
             "#7fbc41"
            ],
            [
             0.9,
             "#4d9221"
            ],
            [
             1,
             "#276419"
            ]
           ],
           "sequential": [
            [
             0,
             "#0d0887"
            ],
            [
             0.1111111111111111,
             "#46039f"
            ],
            [
             0.2222222222222222,
             "#7201a8"
            ],
            [
             0.3333333333333333,
             "#9c179e"
            ],
            [
             0.4444444444444444,
             "#bd3786"
            ],
            [
             0.5555555555555556,
             "#d8576b"
            ],
            [
             0.6666666666666666,
             "#ed7953"
            ],
            [
             0.7777777777777778,
             "#fb9f3a"
            ],
            [
             0.8888888888888888,
             "#fdca26"
            ],
            [
             1,
             "#f0f921"
            ]
           ],
           "sequentialminus": [
            [
             0,
             "#0d0887"
            ],
            [
             0.1111111111111111,
             "#46039f"
            ],
            [
             0.2222222222222222,
             "#7201a8"
            ],
            [
             0.3333333333333333,
             "#9c179e"
            ],
            [
             0.4444444444444444,
             "#bd3786"
            ],
            [
             0.5555555555555556,
             "#d8576b"
            ],
            [
             0.6666666666666666,
             "#ed7953"
            ],
            [
             0.7777777777777778,
             "#fb9f3a"
            ],
            [
             0.8888888888888888,
             "#fdca26"
            ],
            [
             1,
             "#f0f921"
            ]
           ]
          },
          "colorway": [
           "#636efa",
           "#EF553B",
           "#00cc96",
           "#ab63fa",
           "#FFA15A",
           "#19d3f3",
           "#FF6692",
           "#B6E880",
           "#FF97FF",
           "#FECB52"
          ],
          "font": {
           "color": "#2a3f5f"
          },
          "geo": {
           "bgcolor": "white",
           "lakecolor": "white",
           "landcolor": "#E5ECF6",
           "showlakes": true,
           "showland": true,
           "subunitcolor": "white"
          },
          "hoverlabel": {
           "align": "left"
          },
          "hovermode": "closest",
          "mapbox": {
           "style": "light"
          },
          "paper_bgcolor": "white",
          "plot_bgcolor": "#E5ECF6",
          "polar": {
           "angularaxis": {
            "gridcolor": "white",
            "linecolor": "white",
            "ticks": ""
           },
           "bgcolor": "#E5ECF6",
           "radialaxis": {
            "gridcolor": "white",
            "linecolor": "white",
            "ticks": ""
           }
          },
          "scene": {
           "xaxis": {
            "backgroundcolor": "#E5ECF6",
            "gridcolor": "white",
            "gridwidth": 2,
            "linecolor": "white",
            "showbackground": true,
            "ticks": "",
            "zerolinecolor": "white"
           },
           "yaxis": {
            "backgroundcolor": "#E5ECF6",
            "gridcolor": "white",
            "gridwidth": 2,
            "linecolor": "white",
            "showbackground": true,
            "ticks": "",
            "zerolinecolor": "white"
           },
           "zaxis": {
            "backgroundcolor": "#E5ECF6",
            "gridcolor": "white",
            "gridwidth": 2,
            "linecolor": "white",
            "showbackground": true,
            "ticks": "",
            "zerolinecolor": "white"
           }
          },
          "shapedefaults": {
           "line": {
            "color": "#2a3f5f"
           }
          },
          "ternary": {
           "aaxis": {
            "gridcolor": "white",
            "linecolor": "white",
            "ticks": ""
           },
           "baxis": {
            "gridcolor": "white",
            "linecolor": "white",
            "ticks": ""
           },
           "bgcolor": "#E5ECF6",
           "caxis": {
            "gridcolor": "white",
            "linecolor": "white",
            "ticks": ""
           }
          },
          "title": {
           "x": 0.05
          },
          "xaxis": {
           "automargin": true,
           "gridcolor": "white",
           "linecolor": "white",
           "ticks": "",
           "title": {
            "standoff": 15
           },
           "zerolinecolor": "white",
           "zerolinewidth": 2
          },
          "yaxis": {
           "automargin": true,
           "gridcolor": "white",
           "linecolor": "white",
           "ticks": "",
           "title": {
            "standoff": 15
           },
           "zerolinecolor": "white",
           "zerolinewidth": 2
          }
         }
        },
        "title": {
         "text": "Based on Predicted Presence",
         "x": 0.5
        },
        "width": 1000,
        "xaxis": {
         "anchor": "y",
         "domain": [
          0,
          1
         ]
        },
        "yaxis": {
         "anchor": "x",
         "domain": [
          0,
          1
         ],
         "range": [
          0,
          1
         ],
         "title": {
          "text": "Presence Probability"
         }
        }
       }
      }
     },
     "metadata": {},
     "output_type": "display_data"
    }
   ],
   "source": [
    "# Select example week for visualization.\n",
    "df_profile_week = df_profile[(df_profile.index > '2022-09-05') & (df_profile.index < '2022-09-12')]\n",
    "\n",
    "# Visualize ground truth and predicted profile.\n",
    "for title, column in {'Based on Ground Truth Presence': 'presence_gt', 'Based on Predicted Presence': 'presence_predicted'}.items():\n",
    "    fig = make_subplots(rows=1, cols=1)\n",
    "\n",
    "    fig.add_trace(\n",
    "        go.Bar(\n",
    "            name='profile',\n",
    "            x=df_profile_week.index,\n",
    "            y=df_profile_week[column],\n",
    "        ),\n",
    "        row=1,\n",
    "        col=1,\n",
    "    )\n",
    "\n",
    "    fig.update_yaxes(title_text='Presence Probability', range=[0, 1])\n",
    "    fig.update_layout(title_text=title, title_x=0.5, margin={'t': 50, 'r': 0, 'b': 0, 'l': 0}, width=1000, height=300)\n",
    "    fig.show()\n"
   ]
  },
  {
   "cell_type": "code",
   "execution_count": null,
   "metadata": {},
   "outputs": [],
   "source": []
  }
 ],
 "metadata": {
  "kernelspec": {
   "display_name": "presence",
   "language": "python",
   "name": "python3"
  },
  "language_info": {
   "codemirror_mode": {
    "name": "ipython",
    "version": 3
   },
   "file_extension": ".py",
   "mimetype": "text/x-python",
   "name": "python",
   "nbconvert_exporter": "python",
   "pygments_lexer": "ipython3",
   "version": "3.9.16"
  }
 },
 "nbformat": 4,
 "nbformat_minor": 2
}
